{
  "nbformat": 4,
  "nbformat_minor": 0,
  "metadata": {
    "colab": {
      "name": "os — Miscellaneous operating system interfaces.ipynb",
      "provenance": [],
      "authorship_tag": "ABX9TyMa3f2wMK0s1/R9N3u0FpdT",
      "include_colab_link": true
    },
    "kernelspec": {
      "name": "python3",
      "display_name": "Python 3"
    },
    "language_info": {
      "name": "python"
    }
  },
  "cells": [
    {
      "cell_type": "markdown",
      "metadata": {
        "id": "view-in-github",
        "colab_type": "text"
      },
      "source": [
        "<a href=\"https://colab.research.google.com/github/F-Neres/Python_Notes/blob/main/os_%E2%80%94_Miscellaneous_operating_system_interfaces.ipynb\" target=\"_parent\"><img src=\"https://colab.research.google.com/assets/colab-badge.svg\" alt=\"Open In Colab\"/></a>"
      ]
    },
    {
      "cell_type": "markdown",
      "source": [
        "#os — Miscellaneous operating system interfaces"
      ],
      "metadata": {
        "id": "oyBjN1wrk34L"
      }
    },
    {
      "cell_type": "markdown",
      "source": [
        "[Documentação oficial](https://docs.python.org/3/library/os.html)\n",
        "\n",
        "[OS Module in Python with Examples - Geeks for Geeks](https://www.geeksforgeeks.org/os-module-python-examples/)\n",
        "\n",
        "[30 Useful Methods from python OS Module - Analytics Vidhya](https://www.analyticsvidhya.com/blog/2021/05/30-useful-methods-from-python-os-module/)\n",
        "\n",
        "[Python Tutorial: OS Module - YouTube](https://www.youtube.com/watch?v=tJxcKyFMTGo)\n",
        "\n",
        "[Still Using the OS Module in Python? This Alternative is Remarkably Better - Towards Data Science](https://towardsdatascience.com/still-using-the-os-module-in-python-this-alternative-is-remarkably-better-7d728ce22fb7)"
      ],
      "metadata": {
        "id": "4JOH0Xuok-3C"
      }
    },
    {
      "cell_type": "code",
      "source": [
        "import os"
      ],
      "metadata": {
        "id": "lF-ywQxJgmCQ"
      },
      "execution_count": 1,
      "outputs": []
    },
    {
      "cell_type": "code",
      "source": [
        "os.listdir()"
      ],
      "metadata": {
        "id": "I0cqrDUDmXRw",
        "outputId": "593418e9-8258-4963-fe61-c16caef5caa7",
        "colab": {
          "base_uri": "https://localhost:8080/"
        }
      },
      "execution_count": 2,
      "outputs": [
        {
          "output_type": "execute_result",
          "data": {
            "text/plain": [
              "['.config', 'sample_data']"
            ]
          },
          "metadata": {},
          "execution_count": 2
        }
      ]
    },
    {
      "cell_type": "code",
      "source": [
        ""
      ],
      "metadata": {
        "id": "cbvJTEfAg4vL"
      },
      "execution_count": null,
      "outputs": []
    }
  ]
}