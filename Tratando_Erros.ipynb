{
  "nbformat": 4,
  "nbformat_minor": 0,
  "metadata": {
    "colab": {
      "name": "Tratando_Erros.ipynb",
      "provenance": [],
      "authorship_tag": "ABX9TyPO4a4Py/TFBh/s151nnJ46",
      "include_colab_link": true
    },
    "kernelspec": {
      "name": "python3",
      "display_name": "Python 3"
    },
    "language_info": {
      "name": "python"
    }
  },
  "cells": [
    {
      "cell_type": "markdown",
      "metadata": {
        "id": "view-in-github",
        "colab_type": "text"
      },
      "source": [
        "<a href=\"https://colab.research.google.com/github/F-Neres/Python_Notes/blob/main/Tratando_Erros.ipynb\" target=\"_parent\"><img src=\"https://colab.research.google.com/assets/colab-badge.svg\" alt=\"Open In Colab\"/></a>"
      ]
    },
    {
      "cell_type": "markdown",
      "source": [
        "[Python Exception Handling Using *try*, *except* and *finally* statement.](https://www.programiz.com/python-programming/exception-handling)"
      ],
      "metadata": {
        "id": "GmFapRsdc54G"
      }
    },
    {
      "cell_type": "code",
      "execution_count": null,
      "metadata": {
        "id": "8wiok760c0RV"
      },
      "outputs": [],
      "source": [
        ""
      ]
    }
  ]
}