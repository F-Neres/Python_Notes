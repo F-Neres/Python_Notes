{
  "nbformat": 4,
  "nbformat_minor": 0,
  "metadata": {
    "colab": {
      "name": "NumPy.ipynb",
      "provenance": [],
      "authorship_tag": "ABX9TyMbwfKhEFL7JEzRhUy0ionx",
      "include_colab_link": true
    },
    "kernelspec": {
      "name": "python3",
      "display_name": "Python 3"
    },
    "language_info": {
      "name": "python"
    }
  },
  "cells": [
    {
      "cell_type": "markdown",
      "metadata": {
        "id": "view-in-github",
        "colab_type": "text"
      },
      "source": [
        "<a href=\"https://colab.research.google.com/github/F-Neres/Python_Notes/blob/main/NumPy.ipynb\" target=\"_parent\"><img src=\"https://colab.research.google.com/assets/colab-badge.svg\" alt=\"Open In Colab\"/></a>"
      ]
    },
    {
      "cell_type": "code",
      "source": [
        "import numpy as np"
      ],
      "metadata": {
        "id": "H9xvVVaSK8Pc"
      },
      "execution_count": 2,
      "outputs": []
    },
    {
      "cell_type": "code",
      "source": [
        "np.version"
      ],
      "metadata": {
        "colab": {
          "base_uri": "https://localhost:8080/"
        },
        "id": "Ymv_T-iDK-Ge",
        "outputId": "242e80e2-e0fe-4d65-b601-ff1c54eb48c9"
      },
      "execution_count": 3,
      "outputs": [
        {
          "output_type": "execute_result",
          "data": {
            "text/plain": [
              "<module 'numpy.version' from '/usr/local/lib/python3.7/dist-packages/numpy/version.py'>"
            ]
          },
          "metadata": {},
          "execution_count": 3
        }
      ]
    },
    {
      "cell_type": "code",
      "source": [
        "#   Versão do Numpy\n",
        "\n",
        "np.__version__"
      ],
      "metadata": {
        "colab": {
          "base_uri": "https://localhost:8080/",
          "height": 35
        },
        "id": "1WsCOrMgO8QZ",
        "outputId": "20ad8f89-c8eb-42a9-b0f1-3b9f01a6c693"
      },
      "execution_count": 5,
      "outputs": [
        {
          "output_type": "execute_result",
          "data": {
            "text/plain": [
              "'1.21.5'"
            ],
            "application/vnd.google.colaboratory.intrinsic+json": {
              "type": "string"
            }
          },
          "metadata": {},
          "execution_count": 5
        }
      ]
    },
    {
      "cell_type": "markdown",
      "source": [
        "#### Atualizar o numpy, no prompt:\n",
        "\n",
        "pip install numpy -U"
      ],
      "metadata": {
        "id": "yZgbQNpvOi4Q"
      }
    },
    {
      "cell_type": "code",
      "source": [
        "!pip install numpy -U"
      ],
      "metadata": {
        "colab": {
          "base_uri": "https://localhost:8080/"
        },
        "id": "7zoNXJMSQmXZ",
        "outputId": "3df16b35-b690-4a9a-fe91-73455ef6239f"
      },
      "execution_count": 6,
      "outputs": [
        {
          "output_type": "stream",
          "name": "stdout",
          "text": [
            "Requirement already satisfied: numpy in /usr/local/lib/python3.7/dist-packages (1.21.5)\n"
          ]
        }
      ]
    },
    {
      "cell_type": "markdown",
      "source": [
        "## Array"
      ],
      "metadata": {
        "id": "J4HXFAdnQXQh"
      }
    },
    {
      "cell_type": "code",
      "source": [
        "# O que há num array\n",
        "\n",
        "help(np.array)"
      ],
      "metadata": {
        "id": "pc0_iGaGQgCa"
      },
      "execution_count": null,
      "outputs": []
    },
    {
      "cell_type": "code",
      "source": [
        "Lista = [1,2,3,4,5,6,7,8,9,10]\n",
        "Vetor = np.array(Lista)\n",
        "\n",
        "#Um vetor é um array com apenas uma dimensão.\n",
        "#Cada dimensão é uma camada (isso será visto mais a diante).\n",
        "# Um array com uma camada tem uma lista.\n",
        "\n",
        "print(Vetor)\n",
        "print(type(Vetor)) #tipo: ndarray (numpy data array)"
      ],
      "metadata": {
        "colab": {
          "base_uri": "https://localhost:8080/"
        },
        "id": "9QadhJfFVjGv",
        "outputId": "211dbae3-8e1e-40cd-bd49-f3e49d3901cb"
      },
      "execution_count": 12,
      "outputs": [
        {
          "output_type": "stream",
          "name": "stdout",
          "text": [
            "[ 1  2  3  4  5  6  7  8  9 10]\n",
            "<class 'numpy.ndarray'>\n"
          ]
        }
      ]
    },
    {
      "cell_type": "code",
      "source": [
        "# Guia-se por índices\n",
        "# A atribuição de valores é similar à de uma lista:\n",
        "\n",
        "Vetor[0] = 8\n",
        "print(Vetor)\n",
        "print(Vetor[9])"
      ],
      "metadata": {
        "colab": {
          "base_uri": "https://localhost:8080/"
        },
        "id": "NK8vWngUlZI5",
        "outputId": "7e0c04b9-1821-4442-925e-7fa8cfd8a794"
      },
      "execution_count": 19,
      "outputs": [
        {
          "output_type": "stream",
          "name": "stdout",
          "text": [
            "[ 8  2  3  4  5  6  7  8  9 10]\n",
            "10\n"
          ]
        }
      ]
    },
    {
      "cell_type": "code",
      "source": [
        ""
      ],
      "metadata": {
        "id": "8DBSHnNHmsba"
      },
      "execution_count": null,
      "outputs": []
    },
    {
      "cell_type": "markdown",
      "source": [
        "## Métodos do Array"
      ],
      "metadata": {
        "id": "Wf2w2GFuWnJt"
      }
    },
    {
      "cell_type": "code",
      "source": [
        "# Criação de Array com Arange\n",
        "# Os parâmetros são: início, fim e intervalo (a distância entre cada número)\n",
        "\n",
        "VetorArange = np.arange(1,1) #Este array começa e termina no mesmo número, o que faz o array ficar vazio\n",
        "print(VetorArange)\n",
        "\n",
        "VetorArange = np.arange(10,1) #Ele tenta somar um como \"passo\", mas não consegue chegar a um número menor somando, então encerra sem adicionar número algum\n",
        "print(VetorArange)\n",
        "\n",
        "VetorArange = np.arange(10,1,-1) # Dando o \"passo\" negativo, somando o valor do passo ao valor inicial, é possível chegar ao valor final.\n",
        "print(VetorArange)"
      ],
      "metadata": {
        "id": "_2sBD4TVmuhu",
        "outputId": "a2f3f1ca-e2a1-4c40-d352-e9a4572740ac",
        "colab": {
          "base_uri": "https://localhost:8080/"
        }
      },
      "execution_count": 27,
      "outputs": [
        {
          "output_type": "stream",
          "name": "stdout",
          "text": [
            "[]\n",
            "[]\n",
            "[10  9  8  7  6  5  4  3  2]\n"
          ]
        }
      ]
    },
    {
      "cell_type": "code",
      "source": [
        "#Soma acumulada.\n",
        "\n",
        "VetorCumSum = Vetor.cumsum()\n",
        "print(VetorCumSum)\n",
        "print(type(VetorCumSum))\n",
        "\n",
        "# O resultado é outro array"
      ],
      "metadata": {
        "colab": {
          "base_uri": "https://localhost:8080/"
        },
        "id": "imTHogYHQ30K",
        "outputId": "a9638939-85d6-4de5-9711-348c592bf882"
      },
      "execution_count": 15,
      "outputs": [
        {
          "output_type": "stream",
          "name": "stdout",
          "text": [
            "[ 1  3  6 10 15 21 28 36 45 55]\n",
            "<class 'numpy.ndarray'>\n"
          ]
        }
      ]
    },
    {
      "cell_type": "code",
      "source": [
        "# O formato do array:\n",
        "\n",
        "print(Vetor.shape)\n",
        "print(type(Vetor.shape))\n",
        "\n",
        "#O resultado é uma tupla, onde cada número é a quantidade de vetores em cada dimensão"
      ],
      "metadata": {
        "colab": {
          "base_uri": "https://localhost:8080/"
        },
        "id": "sa4WG0UyYwqD",
        "outputId": "72088d04-cd1c-482f-926d-aa77982a111b"
      },
      "execution_count": 21,
      "outputs": [
        {
          "output_type": "stream",
          "name": "stdout",
          "text": [
            "(10,)\n",
            "<class 'tuple'>\n"
          ]
        }
      ]
    },
    {
      "cell_type": "code",
      "source": [
        ""
      ],
      "metadata": {
        "id": "2BN8eVMJl_QX"
      },
      "execution_count": null,
      "outputs": []
    }
  ]
}