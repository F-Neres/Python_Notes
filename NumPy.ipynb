{
  "nbformat": 4,
  "nbformat_minor": 0,
  "metadata": {
    "colab": {
      "name": "NumPy.ipynb",
      "provenance": []
    },
    "kernelspec": {
      "name": "python3",
      "display_name": "Python 3"
    },
    "language_info": {
      "name": "python"
    }
  },
  "cells": [
    {
      "cell_type": "code",
      "source": [
        "import numpy as np"
      ],
      "metadata": {
        "id": "H9xvVVaSK8Pc"
      },
      "execution_count": 2,
      "outputs": []
    },
    {
      "cell_type": "code",
      "source": [
        "np.version"
      ],
      "metadata": {
        "colab": {
          "base_uri": "https://localhost:8080/"
        },
        "id": "Ymv_T-iDK-Ge",
        "outputId": "1d2cf24f-d9c1-48f0-97e8-1bff69909e03"
      },
      "execution_count": 3,
      "outputs": [
        {
          "output_type": "execute_result",
          "data": {
            "text/plain": [
              "<module 'numpy.version' from '/usr/local/lib/python3.7/dist-packages/numpy/version.py'>"
            ]
          },
          "metadata": {},
          "execution_count": 3
        }
      ]
    },
    {
      "cell_type": "code",
      "source": [
        "#   Versão do Numpy\n",
        "\n",
        "np.__version__"
      ],
      "metadata": {
        "colab": {
          "base_uri": "https://localhost:8080/",
          "height": 36
        },
        "id": "1WsCOrMgO8QZ",
        "outputId": "d5603800-4b93-4ab0-ec80-cb3b1bdc7e1e"
      },
      "execution_count": 4,
      "outputs": [
        {
          "output_type": "execute_result",
          "data": {
            "text/plain": [
              "'1.21.5'"
            ],
            "application/vnd.google.colaboratory.intrinsic+json": {
              "type": "string"
            }
          },
          "metadata": {},
          "execution_count": 4
        }
      ]
    },
    {
      "cell_type": "markdown",
      "source": [
        "#### Atualizar o numpy, no prompt:\n",
        "\n",
        "pip install numpy -U"
      ],
      "metadata": {
        "id": "yZgbQNpvOi4Q"
      }
    },
    {
      "cell_type": "code",
      "source": [
        "!pip install numpy -U"
      ],
      "metadata": {
        "colab": {
          "base_uri": "https://localhost:8080/"
        },
        "id": "7zoNXJMSQmXZ",
        "outputId": "fe321ea5-ed09-4e68-f03d-17d09e44c663"
      },
      "execution_count": 5,
      "outputs": [
        {
          "output_type": "stream",
          "name": "stdout",
          "text": [
            "Requirement already satisfied: numpy in /usr/local/lib/python3.7/dist-packages (1.21.5)\n"
          ]
        }
      ]
    },
    {
      "cell_type": "code",
      "source": [
        "# O que há num array\n",
        "\n",
        "help(np.array)"
      ],
      "metadata": {
        "id": "pc0_iGaGQgCa",
        "colab": {
          "base_uri": "https://localhost:8080/"
        },
        "outputId": "c2c5fe9a-ca0c-4912-9c5d-e8163769f645"
      },
      "execution_count": 6,
      "outputs": [
        {
          "output_type": "stream",
          "name": "stdout",
          "text": [
            "Help on built-in function array in module numpy:\n",
            "\n",
            "array(...)\n",
            "    array(object, dtype=None, *, copy=True, order='K', subok=False, ndmin=0,\n",
            "          like=None)\n",
            "    \n",
            "    Create an array.\n",
            "    \n",
            "    Parameters\n",
            "    ----------\n",
            "    object : array_like\n",
            "        An array, any object exposing the array interface, an object whose\n",
            "        __array__ method returns an array, or any (nested) sequence.\n",
            "    dtype : data-type, optional\n",
            "        The desired data-type for the array.  If not given, then the type will\n",
            "        be determined as the minimum type required to hold the objects in the\n",
            "        sequence.\n",
            "    copy : bool, optional\n",
            "        If true (default), then the object is copied.  Otherwise, a copy will\n",
            "        only be made if __array__ returns a copy, if obj is a nested sequence,\n",
            "        or if a copy is needed to satisfy any of the other requirements\n",
            "        (`dtype`, `order`, etc.).\n",
            "    order : {'K', 'A', 'C', 'F'}, optional\n",
            "        Specify the memory layout of the array. If object is not an array, the\n",
            "        newly created array will be in C order (row major) unless 'F' is\n",
            "        specified, in which case it will be in Fortran order (column major).\n",
            "        If object is an array the following holds.\n",
            "    \n",
            "        ===== ========= ===================================================\n",
            "        order  no copy                     copy=True\n",
            "        ===== ========= ===================================================\n",
            "        'K'   unchanged F & C order preserved, otherwise most similar order\n",
            "        'A'   unchanged F order if input is F and not C, otherwise C order\n",
            "        'C'   C order   C order\n",
            "        'F'   F order   F order\n",
            "        ===== ========= ===================================================\n",
            "    \n",
            "        When ``copy=False`` and a copy is made for other reasons, the result is\n",
            "        the same as if ``copy=True``, with some exceptions for 'A', see the\n",
            "        Notes section. The default order is 'K'.\n",
            "    subok : bool, optional\n",
            "        If True, then sub-classes will be passed-through, otherwise\n",
            "        the returned array will be forced to be a base-class array (default).\n",
            "    ndmin : int, optional\n",
            "        Specifies the minimum number of dimensions that the resulting\n",
            "        array should have.  Ones will be pre-pended to the shape as\n",
            "        needed to meet this requirement.\n",
            "    like : array_like\n",
            "        Reference object to allow the creation of arrays which are not\n",
            "        NumPy arrays. If an array-like passed in as ``like`` supports\n",
            "        the ``__array_function__`` protocol, the result will be defined\n",
            "        by it. In this case, it ensures the creation of an array object\n",
            "        compatible with that passed in via this argument.\n",
            "    \n",
            "        .. versionadded:: 1.20.0\n",
            "    \n",
            "    Returns\n",
            "    -------\n",
            "    out : ndarray\n",
            "        An array object satisfying the specified requirements.\n",
            "    \n",
            "    See Also\n",
            "    --------\n",
            "    empty_like : Return an empty array with shape and type of input.\n",
            "    ones_like : Return an array of ones with shape and type of input.\n",
            "    zeros_like : Return an array of zeros with shape and type of input.\n",
            "    full_like : Return a new array with shape of input filled with value.\n",
            "    empty : Return a new uninitialized array.\n",
            "    ones : Return a new array setting values to one.\n",
            "    zeros : Return a new array setting values to zero.\n",
            "    full : Return a new array of given shape filled with value.\n",
            "    \n",
            "    \n",
            "    Notes\n",
            "    -----\n",
            "    When order is 'A' and `object` is an array in neither 'C' nor 'F' order,\n",
            "    and a copy is forced by a change in dtype, then the order of the result is\n",
            "    not necessarily 'C' as expected. This is likely a bug.\n",
            "    \n",
            "    Examples\n",
            "    --------\n",
            "    >>> np.array([1, 2, 3])\n",
            "    array([1, 2, 3])\n",
            "    \n",
            "    Upcasting:\n",
            "    \n",
            "    >>> np.array([1, 2, 3.0])\n",
            "    array([ 1.,  2.,  3.])\n",
            "    \n",
            "    More than one dimension:\n",
            "    \n",
            "    >>> np.array([[1, 2], [3, 4]])\n",
            "    array([[1, 2],\n",
            "           [3, 4]])\n",
            "    \n",
            "    Minimum dimensions 2:\n",
            "    \n",
            "    >>> np.array([1, 2, 3], ndmin=2)\n",
            "    array([[1, 2, 3]])\n",
            "    \n",
            "    Type provided:\n",
            "    \n",
            "    >>> np.array([1, 2, 3], dtype=complex)\n",
            "    array([ 1.+0.j,  2.+0.j,  3.+0.j])\n",
            "    \n",
            "    Data-type consisting of more than one element:\n",
            "    \n",
            "    >>> x = np.array([(1,2),(3,4)],dtype=[('a','<i4'),('b','<i4')])\n",
            "    >>> x['a']\n",
            "    array([1, 3])\n",
            "    \n",
            "    Creating an array from sub-classes:\n",
            "    \n",
            "    >>> np.array(np.mat('1 2; 3 4'))\n",
            "    array([[1, 2],\n",
            "           [3, 4]])\n",
            "    \n",
            "    >>> np.array(np.mat('1 2; 3 4'), subok=True)\n",
            "    matrix([[1, 2],\n",
            "            [3, 4]])\n",
            "\n"
          ]
        }
      ]
    },
    {
      "cell_type": "markdown",
      "source": [
        "## Criação de Array"
      ],
      "metadata": {
        "id": "J4HXFAdnQXQh"
      }
    },
    {
      "cell_type": "code",
      "source": [
        "# Criação de array com lista\n",
        "\n",
        "Lista = [1,2,3,4,5,6,7,8,9,10.] #Colocar um ponto num número determina que o tipo seja \"float\"\n",
        "Vetor = np.array(Lista)\n",
        "\n",
        "#Um vetor é um array com apenas uma dimensão.\n",
        "#Cada dimensão é uma camada (isso será visto mais a diante).\n",
        "# Um array com uma camada tem uma lista.\n",
        "\n",
        "print(Vetor)"
      ],
      "metadata": {
        "colab": {
          "base_uri": "https://localhost:8080/"
        },
        "id": "9QadhJfFVjGv",
        "outputId": "e2ae54e1-1e1b-456e-fcae-e735263d946f"
      },
      "execution_count": 58,
      "outputs": [
        {
          "output_type": "stream",
          "name": "stdout",
          "text": [
            "[ 1.  2.  3.  4.  5.  6.  7.  8.  9. 10.]\n"
          ]
        }
      ]
    },
    {
      "cell_type": "code",
      "source": [
        "#Criando uma lista composta por listas.\n",
        "\n",
        "Lista_Lista = [Lista for i in range(len(Lista)-2)]\n",
        "print(Lista_Lista)\n",
        "\n",
        "print()\n",
        "\n",
        "# Isso proporcionará criar um array bidimensional, uma matriz:\n",
        "Matriz = np.array(Lista_Lista)\n",
        "print(Matriz)"
      ],
      "metadata": {
        "id": "qR2-Pf0m1gSM",
        "outputId": "409e401a-4f60-4518-9cfa-180d6cbc501b",
        "colab": {
          "base_uri": "https://localhost:8080/"
        }
      },
      "execution_count": 65,
      "outputs": [
        {
          "output_type": "stream",
          "name": "stdout",
          "text": [
            "[[1, 2, 3, 4, 5, 6, 7, 8, 9, 10.0], [1, 2, 3, 4, 5, 6, 7, 8, 9, 10.0], [1, 2, 3, 4, 5, 6, 7, 8, 9, 10.0], [1, 2, 3, 4, 5, 6, 7, 8, 9, 10.0], [1, 2, 3, 4, 5, 6, 7, 8, 9, 10.0], [1, 2, 3, 4, 5, 6, 7, 8, 9, 10.0], [1, 2, 3, 4, 5, 6, 7, 8, 9, 10.0], [1, 2, 3, 4, 5, 6, 7, 8, 9, 10.0]]\n",
            "\n",
            "[[ 1.  2.  3.  4.  5.  6.  7.  8.  9. 10.]\n",
            " [ 1.  2.  3.  4.  5.  6.  7.  8.  9. 10.]\n",
            " [ 1.  2.  3.  4.  5.  6.  7.  8.  9. 10.]\n",
            " [ 1.  2.  3.  4.  5.  6.  7.  8.  9. 10.]\n",
            " [ 1.  2.  3.  4.  5.  6.  7.  8.  9. 10.]\n",
            " [ 1.  2.  3.  4.  5.  6.  7.  8.  9. 10.]\n",
            " [ 1.  2.  3.  4.  5.  6.  7.  8.  9. 10.]\n",
            " [ 1.  2.  3.  4.  5.  6.  7.  8.  9. 10.]]\n"
          ]
        }
      ]
    },
    {
      "cell_type": "code",
      "source": [
        "# Criação de Array com Arange\n",
        "# Os parâmetros são: início, fim e intervalo (a distância entre cada número)\n",
        "\n",
        "VetorArange = np.arange(1,1) #Este array começa e termina no mesmo número, o que faz o array ficar vazio\n",
        "print(VetorArange)\n",
        "\n",
        "VetorArange = np.arange(10,1) #Ele tenta somar um como \"passo\", mas não consegue chegar a um número menor somando, então encerra sem adicionar número algum\n",
        "print(VetorArange)\n",
        "\n",
        "VetorArange = np.arange(10,1,-1) # Dando o \"passo\" negativo, somando o valor do passo ao valor inicial, é possível chegar ao valor final.\n",
        "print(VetorArange)\n",
        "\n",
        "VetorArange = np.arange(10,1,-1.,dtype='int64') #É possível determinar o tipo; caso contrário, ele é inferido pelos números dados\n",
        "# Mesmo dado um número com um ponto, o dtype foi estipulado com sucesso"
      ],
      "metadata": {
        "colab": {
          "base_uri": "https://localhost:8080/"
        },
        "id": "_2sBD4TVmuhu",
        "outputId": "359cd5ce-1ec4-405e-9bae-8fbcc246ee4d"
      },
      "execution_count": 8,
      "outputs": [
        {
          "output_type": "stream",
          "name": "stdout",
          "text": [
            "[]\n",
            "[]\n",
            "[10  9  8  7  6  5  4  3  2]\n"
          ]
        }
      ]
    },
    {
      "cell_type": "code",
      "source": [
        "# Um array preenchido com zeros\n",
        "# O primeiro parâmetro é o shape do array - dado em uma tupla\n",
        "\n",
        "MatrizZeros = np.zeros((5,20)) # Uma matriz de 5x20 (5 vetores de 20 itens)\n",
        "print(MatrizZeros)\n",
        "\n",
        "print()\n",
        "\n",
        "MatrizZerosLike = np.zeros_like(VetorArange) #Cria um array com o mesmo shape de outro, mas com todos os valores sendo zero\n",
        "print(MatrizZerosLike)"
      ],
      "metadata": {
        "colab": {
          "base_uri": "https://localhost:8080/"
        },
        "id": "PMPNpF3nzdbz",
        "outputId": "5ffddf4f-7dde-48da-d888-7a6f3db3da83"
      },
      "execution_count": 9,
      "outputs": [
        {
          "output_type": "stream",
          "name": "stdout",
          "text": [
            "[[0. 0. 0. 0. 0. 0. 0. 0. 0. 0. 0. 0. 0. 0. 0. 0. 0. 0. 0. 0.]\n",
            " [0. 0. 0. 0. 0. 0. 0. 0. 0. 0. 0. 0. 0. 0. 0. 0. 0. 0. 0. 0.]\n",
            " [0. 0. 0. 0. 0. 0. 0. 0. 0. 0. 0. 0. 0. 0. 0. 0. 0. 0. 0. 0.]\n",
            " [0. 0. 0. 0. 0. 0. 0. 0. 0. 0. 0. 0. 0. 0. 0. 0. 0. 0. 0. 0.]\n",
            " [0. 0. 0. 0. 0. 0. 0. 0. 0. 0. 0. 0. 0. 0. 0. 0. 0. 0. 0. 0.]]\n",
            "\n",
            "[0 0 0 0 0 0 0 0 0]\n"
          ]
        }
      ]
    },
    {
      "cell_type": "code",
      "source": [
        "# Retorna uma matriz (um array bidimensional) com todos os valores zero, exceto numa diagonal\n",
        "\n",
        "MatrizOlho = np.eye(5)\n",
        "print(MatrizOlho)\n",
        "\n",
        "#Deslocando a diagonal para baixo e determiando o número de colunas (valores dentro dos vetores)\n",
        "print()\n",
        "\n",
        "MatrizOlho2 = np.eye(N=15,M=7,k=-4)\n",
        "print(MatrizOlho2)"
      ],
      "metadata": {
        "id": "pGJhaU4M2D4D",
        "outputId": "780f49ea-1810-41f3-cd52-626015c8a630",
        "colab": {
          "base_uri": "https://localhost:8080/"
        }
      },
      "execution_count": 24,
      "outputs": [
        {
          "output_type": "stream",
          "name": "stdout",
          "text": [
            "[[1. 0. 0. 0. 0.]\n",
            " [0. 1. 0. 0. 0.]\n",
            " [0. 0. 1. 0. 0.]\n",
            " [0. 0. 0. 1. 0.]\n",
            " [0. 0. 0. 0. 1.]]\n",
            "\n",
            "[[0. 0. 0. 0. 0. 0. 0.]\n",
            " [0. 0. 0. 0. 0. 0. 0.]\n",
            " [0. 0. 0. 0. 0. 0. 0.]\n",
            " [0. 0. 0. 0. 0. 0. 0.]\n",
            " [1. 0. 0. 0. 0. 0. 0.]\n",
            " [0. 1. 0. 0. 0. 0. 0.]\n",
            " [0. 0. 1. 0. 0. 0. 0.]\n",
            " [0. 0. 0. 1. 0. 0. 0.]\n",
            " [0. 0. 0. 0. 1. 0. 0.]\n",
            " [0. 0. 0. 0. 0. 1. 0.]\n",
            " [0. 0. 0. 0. 0. 0. 1.]\n",
            " [0. 0. 0. 0. 0. 0. 0.]\n",
            " [0. 0. 0. 0. 0. 0. 0.]\n",
            " [0. 0. 0. 0. 0. 0. 0.]\n",
            " [0. 0. 0. 0. 0. 0. 0.]]\n"
          ]
        }
      ]
    },
    {
      "cell_type": "code",
      "source": [
        "# Como o \"eye\", mas a lista serve como valores das diagonais\n",
        "# Forma uma matriz com lados do tamanho da lista.\n",
        "\n",
        "MatrizDiag = np.diag(Lista)\n",
        "\n",
        "print(MatrizDiag)"
      ],
      "metadata": {
        "colab": {
          "base_uri": "https://localhost:8080/"
        },
        "id": "7nMQCNXez1mb",
        "outputId": "b6f34b0e-447e-4830-ca03-fde2c307f83f"
      },
      "execution_count": 16,
      "outputs": [
        {
          "output_type": "stream",
          "name": "stdout",
          "text": [
            "[[ 1.  0.  0.  0.  0.  0.  0.  0.  0.  0.]\n",
            " [ 0.  2.  0.  0.  0.  0.  0.  0.  0.  0.]\n",
            " [ 0.  0.  3.  0.  0.  0.  0.  0.  0.  0.]\n",
            " [ 0.  0.  0.  4.  0.  0.  0.  0.  0.  0.]\n",
            " [ 0.  0.  0.  0.  5.  0.  0.  0.  0.  0.]\n",
            " [ 0.  0.  0.  0.  0.  6.  0.  0.  0.  0.]\n",
            " [ 0.  0.  0.  0.  0.  0.  7.  0.  0.  0.]\n",
            " [ 0.  0.  0.  0.  0.  0.  0.  8.  0.  0.]\n",
            " [ 0.  0.  0.  0.  0.  0.  0.  0.  9.  0.]\n",
            " [ 0.  0.  0.  0.  0.  0.  0.  0.  0. 10.]]\n"
          ]
        }
      ]
    },
    {
      "cell_type": "code",
      "source": [
        "# Cria um vetor com N valores (defaut = 50) que vai de primeiro parâmetro ao segundo\n",
        "\n",
        "VetorLinspace = np.linspace(0,50)\n",
        "print(VetorLinspace)\n",
        "print()\n",
        "VetorLinspace = np.linspace(0,10)\n",
        "print(VetorLinspace)\n",
        "\n",
        "print()\n",
        "\n",
        "VetorLinspace = np.linspace(start=0,stop=10,num=2,endpoint=False,axis=-1)\n",
        "#Dois valores(num), não incluindo o último (endpoind),\n",
        "print(VetorLinspace)"
      ],
      "metadata": {
        "colab": {
          "base_uri": "https://localhost:8080/"
        },
        "id": "ATGPDpzs-04Z",
        "outputId": "d283dd00-1b82-4e89-df07-b62423703556"
      },
      "execution_count": 53,
      "outputs": [
        {
          "output_type": "stream",
          "name": "stdout",
          "text": [
            "[ 0.          1.02040816  2.04081633  3.06122449  4.08163265  5.10204082\n",
            "  6.12244898  7.14285714  8.16326531  9.18367347 10.20408163 11.2244898\n",
            " 12.24489796 13.26530612 14.28571429 15.30612245 16.32653061 17.34693878\n",
            " 18.36734694 19.3877551  20.40816327 21.42857143 22.44897959 23.46938776\n",
            " 24.48979592 25.51020408 26.53061224 27.55102041 28.57142857 29.59183673\n",
            " 30.6122449  31.63265306 32.65306122 33.67346939 34.69387755 35.71428571\n",
            " 36.73469388 37.75510204 38.7755102  39.79591837 40.81632653 41.83673469\n",
            " 42.85714286 43.87755102 44.89795918 45.91836735 46.93877551 47.95918367\n",
            " 48.97959184 50.        ]\n",
            "\n",
            "[ 0.          0.20408163  0.40816327  0.6122449   0.81632653  1.02040816\n",
            "  1.2244898   1.42857143  1.63265306  1.83673469  2.04081633  2.24489796\n",
            "  2.44897959  2.65306122  2.85714286  3.06122449  3.26530612  3.46938776\n",
            "  3.67346939  3.87755102  4.08163265  4.28571429  4.48979592  4.69387755\n",
            "  4.89795918  5.10204082  5.30612245  5.51020408  5.71428571  5.91836735\n",
            "  6.12244898  6.32653061  6.53061224  6.73469388  6.93877551  7.14285714\n",
            "  7.34693878  7.55102041  7.75510204  7.95918367  8.16326531  8.36734694\n",
            "  8.57142857  8.7755102   8.97959184  9.18367347  9.3877551   9.59183673\n",
            "  9.79591837 10.        ]\n",
            "\n",
            "[0. 5.]\n"
          ]
        }
      ]
    },
    {
      "cell_type": "code",
      "source": [
        "#Como o linspace, mas os valores são dados em log.\n",
        "\n",
        "VetorLogspace = np.logspace(10,50,40)\n",
        "print(VetorLogspace)\n",
        "\n",
        "print()\n",
        "\n",
        "VetorLogspace = np.logspace(0,1,40)\n",
        "print(VetorLogspace)"
      ],
      "metadata": {
        "colab": {
          "base_uri": "https://localhost:8080/"
        },
        "id": "M3wQScXgC_0Q",
        "outputId": "74d869cd-f003-4484-f641-b6b0c52f7a1e"
      },
      "execution_count": 56,
      "outputs": [
        {
          "output_type": "stream",
          "name": "stdout",
          "text": [
            "[1.00000000e+10 1.06081836e+11 1.12533558e+12 1.19377664e+13\n",
            " 1.26638017e+14 1.34339933e+15 1.42510267e+16 1.51177507e+17\n",
            " 1.60371874e+18 1.70125428e+19 1.80472177e+20 1.91448198e+21\n",
            " 2.03091762e+22 2.15443469e+23 2.28546386e+24 2.42446202e+25\n",
            " 2.57191381e+26 2.72833338e+27 2.89426612e+28 3.07029063e+29\n",
            " 3.25702066e+30 3.45510729e+31 3.66524124e+32 3.88815518e+33\n",
            " 4.12462638e+34 4.37547938e+35 4.64158883e+36 4.92388263e+37\n",
            " 5.22334507e+38 5.54102033e+39 5.87801607e+40 6.23550734e+41\n",
            " 6.61474064e+42 7.01703829e+43 7.44380301e+44 7.89652287e+45\n",
            " 8.37677640e+46 8.88623816e+47 9.42668455e+48 1.00000000e+50]\n",
            "\n",
            "[ 1.          1.06081836  1.12533558  1.19377664  1.26638017  1.34339933\n",
            "  1.42510267  1.51177507  1.60371874  1.70125428  1.80472177  1.91448198\n",
            "  2.03091762  2.15443469  2.28546386  2.42446202  2.57191381  2.72833338\n",
            "  2.89426612  3.07029063  3.25702066  3.45510729  3.66524124  3.88815518\n",
            "  4.12462638  4.37547938  4.64158883  4.92388263  5.22334507  5.54102033\n",
            "  5.87801607  6.23550734  6.61474064  7.01703829  7.44380301  7.89652287\n",
            "  8.3767764   8.88623816  9.42668455 10.        ]\n"
          ]
        }
      ]
    },
    {
      "cell_type": "markdown",
      "source": [
        "## Investigação dos Arrays"
      ],
      "metadata": {
        "id": "lVSgjcK9wkqL"
      }
    },
    {
      "cell_type": "code",
      "source": [
        "# O tipo é ndarray - numpy data array\n",
        "print(type(Vetor))"
      ],
      "metadata": {
        "colab": {
          "base_uri": "https://localhost:8080/"
        },
        "id": "xAAYnrRnyqHb",
        "outputId": "2420b772-6053-44a3-931e-de422c4e367f"
      },
      "execution_count": 11,
      "outputs": [
        {
          "output_type": "stream",
          "name": "stdout",
          "text": [
            "<class 'numpy.ndarray'>\n"
          ]
        }
      ]
    },
    {
      "cell_type": "code",
      "source": [
        "# Guia-se por índices\n",
        "# A atribuição de valores é similar à de uma lista:\n",
        "\n",
        "Vetor[0] = 8\n",
        "print(Vetor)\n",
        "print(Vetor[9])"
      ],
      "metadata": {
        "colab": {
          "base_uri": "https://localhost:8080/"
        },
        "id": "NK8vWngUlZI5",
        "outputId": "588f4e4a-ecdd-4847-ff24-37a1d8d93d22"
      },
      "execution_count": 12,
      "outputs": [
        {
          "output_type": "stream",
          "name": "stdout",
          "text": [
            "[ 8.  2.  3.  4.  5.  6.  7.  8.  9. 10.]\n",
            "10.0\n"
          ]
        }
      ]
    },
    {
      "cell_type": "code",
      "source": [
        "# O formato do array:\n",
        "\n",
        "print(Vetor.shape)\n",
        "print(type(Vetor.shape))\n",
        "\n",
        "print()\n",
        "print(Matriz.shape)\n",
        "\n",
        "#O resultado é uma tupla, onde cada número é o tamanho de cada dimensão\n",
        "#Em comparação com as listas matrioskas, o continente vem antes do conteúdo."
      ],
      "metadata": {
        "colab": {
          "base_uri": "https://localhost:8080/"
        },
        "id": "sa4WG0UyYwqD",
        "outputId": "b9126de3-adea-429b-c2d9-ddf98e83ebb4"
      },
      "execution_count": 66,
      "outputs": [
        {
          "output_type": "stream",
          "name": "stdout",
          "text": [
            "(10,)\n",
            "<class 'tuple'>\n",
            "\n",
            "(8, 10)\n"
          ]
        }
      ]
    },
    {
      "cell_type": "code",
      "source": [
        "#dtype é o tipo dos dados\n",
        "#Arrays só aceitam dados de um mesmo tipo, e apenas números\n",
        "\n",
        "print(Vetor.dtype,)\n",
        "print(VetorArange.dtype,)\n",
        "\n",
        "print('')\n",
        "\n",
        "print(type(Vetor.dtype))\n"
      ],
      "metadata": {
        "colab": {
          "base_uri": "https://localhost:8080/"
        },
        "id": "8DBSHnNHmsba",
        "outputId": "826c5eca-e3a2-4330-8afc-644fe231e160"
      },
      "execution_count": 14,
      "outputs": [
        {
          "output_type": "stream",
          "name": "stdout",
          "text": [
            "float64\n",
            "int64\n",
            "\n",
            "<class 'numpy.dtype[float64]'>\n"
          ]
        }
      ]
    },
    {
      "cell_type": "code",
      "source": [
        "#Fornece os índices da diagonal de um array\n",
        "\n",
        "\n",
        "DiagIndices = np.diag_indices(3,4)\n",
        "# A diagonal de uma matriz hipotética com N atributos e M dimensões, sendo np.diag_indices(N,M)\n",
        "\n",
        "print(1,DiagIndices)\n",
        "print(2,type(DiagIndices))\n",
        "for i in DiagIndices:\n",
        "  print()\n",
        "  print(3,i)\n",
        "  print(4,type(i))\n",
        "\n",
        "try:\n",
        "  DiagIndices2 = np.diag_indices_from(VetorOlho2)\n",
        "  # Os índices de uma diagonal dada\n",
        "except ValueError:\n",
        "  print(5,ValueError.with_traceback)\n",
        "  # Todas as dimensões do array precisam ter o mesmo tamanho para que haja uma diagonal definida\n",
        "else:\n",
        "  print(6,DiagIndices2)\n",
        "\n",
        "\n",
        "\n"
      ],
      "metadata": {
        "colab": {
          "base_uri": "https://localhost:8080/"
        },
        "id": "JiJPLUBz09Ck",
        "outputId": "6cbcc0f1-f206-4a82-8f7b-1048c88dc549"
      },
      "execution_count": 35,
      "outputs": [
        {
          "output_type": "stream",
          "name": "stdout",
          "text": [
            "1 (array([0, 1, 2]), array([0, 1, 2]), array([0, 1, 2]), array([0, 1, 2]))\n",
            "2 <class 'tuple'>\n",
            "\n",
            "3 [0 1 2]\n",
            "4 <class 'numpy.ndarray'>\n",
            "\n",
            "3 [0 1 2]\n",
            "4 <class 'numpy.ndarray'>\n",
            "\n",
            "3 [0 1 2]\n",
            "4 <class 'numpy.ndarray'>\n",
            "\n",
            "3 [0 1 2]\n",
            "4 <class 'numpy.ndarray'>\n",
            "<method 'with_traceback' of 'BaseException' objects>\n"
          ]
        }
      ]
    },
    {
      "cell_type": "markdown",
      "source": [
        "## Métodos do Array"
      ],
      "metadata": {
        "id": "Wf2w2GFuWnJt"
      }
    },
    {
      "cell_type": "code",
      "source": [
        "#Soma acumulada.\n",
        "\n",
        "VetorCumSum = Vetor.cumsum()\n",
        "print(VetorCumSum)\n",
        "print(type(VetorCumSum))\n",
        "\n",
        "# O resultado é outro array"
      ],
      "metadata": {
        "colab": {
          "base_uri": "https://localhost:8080/"
        },
        "id": "imTHogYHQ30K",
        "outputId": "e28b7bec-555b-4d4a-c60e-be9099c16488"
      },
      "execution_count": 15,
      "outputs": [
        {
          "output_type": "stream",
          "name": "stdout",
          "text": [
            "[ 8. 10. 13. 17. 22. 28. 35. 43. 52. 62.]\n",
            "<class 'numpy.ndarray'>\n"
          ]
        }
      ]
    },
    {
      "cell_type": "code",
      "source": [
        ""
      ],
      "metadata": {
        "id": "2BN8eVMJl_QX"
      },
      "execution_count": 15,
      "outputs": []
    }
  ]
}