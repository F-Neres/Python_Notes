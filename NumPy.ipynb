{
  "nbformat": 4,
  "nbformat_minor": 0,
  "metadata": {
    "colab": {
      "name": "NumPy.ipynb",
      "provenance": []
    },
    "kernelspec": {
      "name": "python3",
      "display_name": "Python 3"
    },
    "language_info": {
      "name": "python"
    }
  },
  "cells": [
    {
      "cell_type": "code",
      "source": [
        "import numpy as np"
      ],
      "metadata": {
        "id": "H9xvVVaSK8Pc"
      },
      "execution_count": 2,
      "outputs": []
    },
    {
      "cell_type": "code",
      "source": [
        "np.version"
      ],
      "metadata": {
        "colab": {
          "base_uri": "https://localhost:8080/"
        },
        "id": "Ymv_T-iDK-Ge",
        "outputId": "1d2cf24f-d9c1-48f0-97e8-1bff69909e03"
      },
      "execution_count": 3,
      "outputs": [
        {
          "output_type": "execute_result",
          "data": {
            "text/plain": [
              "<module 'numpy.version' from '/usr/local/lib/python3.7/dist-packages/numpy/version.py'>"
            ]
          },
          "metadata": {},
          "execution_count": 3
        }
      ]
    },
    {
      "cell_type": "code",
      "source": [
        "#   Versão do Numpy\n",
        "\n",
        "np.__version__"
      ],
      "metadata": {
        "colab": {
          "base_uri": "https://localhost:8080/",
          "height": 35
        },
        "id": "1WsCOrMgO8QZ",
        "outputId": "d5603800-4b93-4ab0-ec80-cb3b1bdc7e1e"
      },
      "execution_count": 4,
      "outputs": [
        {
          "output_type": "execute_result",
          "data": {
            "text/plain": [
              "'1.21.5'"
            ],
            "application/vnd.google.colaboratory.intrinsic+json": {
              "type": "string"
            }
          },
          "metadata": {},
          "execution_count": 4
        }
      ]
    },
    {
      "cell_type": "markdown",
      "source": [
        "#### Atualizar o numpy, no prompt:\n",
        "\n",
        "pip install numpy -U"
      ],
      "metadata": {
        "id": "yZgbQNpvOi4Q"
      }
    },
    {
      "cell_type": "code",
      "source": [
        "!pip install numpy -U"
      ],
      "metadata": {
        "colab": {
          "base_uri": "https://localhost:8080/"
        },
        "id": "7zoNXJMSQmXZ",
        "outputId": "fe321ea5-ed09-4e68-f03d-17d09e44c663"
      },
      "execution_count": 5,
      "outputs": [
        {
          "output_type": "stream",
          "name": "stdout",
          "text": [
            "Requirement already satisfied: numpy in /usr/local/lib/python3.7/dist-packages (1.21.5)\n"
          ]
        }
      ]
    },
    {
      "cell_type": "markdown",
      "source": [
        "## Criação de Array"
      ],
      "metadata": {
        "id": "J4HXFAdnQXQh"
      }
    },
    {
      "cell_type": "code",
      "source": [
        "# O que há num array\n",
        "\n",
        "help(np.array)"
      ],
      "metadata": {
        "id": "pc0_iGaGQgCa",
        "colab": {
          "base_uri": "https://localhost:8080/"
        },
        "outputId": "c2c5fe9a-ca0c-4912-9c5d-e8163769f645"
      },
      "execution_count": 6,
      "outputs": [
        {
          "output_type": "stream",
          "name": "stdout",
          "text": [
            "Help on built-in function array in module numpy:\n",
            "\n",
            "array(...)\n",
            "    array(object, dtype=None, *, copy=True, order='K', subok=False, ndmin=0,\n",
            "          like=None)\n",
            "    \n",
            "    Create an array.\n",
            "    \n",
            "    Parameters\n",
            "    ----------\n",
            "    object : array_like\n",
            "        An array, any object exposing the array interface, an object whose\n",
            "        __array__ method returns an array, or any (nested) sequence.\n",
            "    dtype : data-type, optional\n",
            "        The desired data-type for the array.  If not given, then the type will\n",
            "        be determined as the minimum type required to hold the objects in the\n",
            "        sequence.\n",
            "    copy : bool, optional\n",
            "        If true (default), then the object is copied.  Otherwise, a copy will\n",
            "        only be made if __array__ returns a copy, if obj is a nested sequence,\n",
            "        or if a copy is needed to satisfy any of the other requirements\n",
            "        (`dtype`, `order`, etc.).\n",
            "    order : {'K', 'A', 'C', 'F'}, optional\n",
            "        Specify the memory layout of the array. If object is not an array, the\n",
            "        newly created array will be in C order (row major) unless 'F' is\n",
            "        specified, in which case it will be in Fortran order (column major).\n",
            "        If object is an array the following holds.\n",
            "    \n",
            "        ===== ========= ===================================================\n",
            "        order  no copy                     copy=True\n",
            "        ===== ========= ===================================================\n",
            "        'K'   unchanged F & C order preserved, otherwise most similar order\n",
            "        'A'   unchanged F order if input is F and not C, otherwise C order\n",
            "        'C'   C order   C order\n",
            "        'F'   F order   F order\n",
            "        ===== ========= ===================================================\n",
            "    \n",
            "        When ``copy=False`` and a copy is made for other reasons, the result is\n",
            "        the same as if ``copy=True``, with some exceptions for 'A', see the\n",
            "        Notes section. The default order is 'K'.\n",
            "    subok : bool, optional\n",
            "        If True, then sub-classes will be passed-through, otherwise\n",
            "        the returned array will be forced to be a base-class array (default).\n",
            "    ndmin : int, optional\n",
            "        Specifies the minimum number of dimensions that the resulting\n",
            "        array should have.  Ones will be pre-pended to the shape as\n",
            "        needed to meet this requirement.\n",
            "    like : array_like\n",
            "        Reference object to allow the creation of arrays which are not\n",
            "        NumPy arrays. If an array-like passed in as ``like`` supports\n",
            "        the ``__array_function__`` protocol, the result will be defined\n",
            "        by it. In this case, it ensures the creation of an array object\n",
            "        compatible with that passed in via this argument.\n",
            "    \n",
            "        .. versionadded:: 1.20.0\n",
            "    \n",
            "    Returns\n",
            "    -------\n",
            "    out : ndarray\n",
            "        An array object satisfying the specified requirements.\n",
            "    \n",
            "    See Also\n",
            "    --------\n",
            "    empty_like : Return an empty array with shape and type of input.\n",
            "    ones_like : Return an array of ones with shape and type of input.\n",
            "    zeros_like : Return an array of zeros with shape and type of input.\n",
            "    full_like : Return a new array with shape of input filled with value.\n",
            "    empty : Return a new uninitialized array.\n",
            "    ones : Return a new array setting values to one.\n",
            "    zeros : Return a new array setting values to zero.\n",
            "    full : Return a new array of given shape filled with value.\n",
            "    \n",
            "    \n",
            "    Notes\n",
            "    -----\n",
            "    When order is 'A' and `object` is an array in neither 'C' nor 'F' order,\n",
            "    and a copy is forced by a change in dtype, then the order of the result is\n",
            "    not necessarily 'C' as expected. This is likely a bug.\n",
            "    \n",
            "    Examples\n",
            "    --------\n",
            "    >>> np.array([1, 2, 3])\n",
            "    array([1, 2, 3])\n",
            "    \n",
            "    Upcasting:\n",
            "    \n",
            "    >>> np.array([1, 2, 3.0])\n",
            "    array([ 1.,  2.,  3.])\n",
            "    \n",
            "    More than one dimension:\n",
            "    \n",
            "    >>> np.array([[1, 2], [3, 4]])\n",
            "    array([[1, 2],\n",
            "           [3, 4]])\n",
            "    \n",
            "    Minimum dimensions 2:\n",
            "    \n",
            "    >>> np.array([1, 2, 3], ndmin=2)\n",
            "    array([[1, 2, 3]])\n",
            "    \n",
            "    Type provided:\n",
            "    \n",
            "    >>> np.array([1, 2, 3], dtype=complex)\n",
            "    array([ 1.+0.j,  2.+0.j,  3.+0.j])\n",
            "    \n",
            "    Data-type consisting of more than one element:\n",
            "    \n",
            "    >>> x = np.array([(1,2),(3,4)],dtype=[('a','<i4'),('b','<i4')])\n",
            "    >>> x['a']\n",
            "    array([1, 3])\n",
            "    \n",
            "    Creating an array from sub-classes:\n",
            "    \n",
            "    >>> np.array(np.mat('1 2; 3 4'))\n",
            "    array([[1, 2],\n",
            "           [3, 4]])\n",
            "    \n",
            "    >>> np.array(np.mat('1 2; 3 4'), subok=True)\n",
            "    matrix([[1, 2],\n",
            "            [3, 4]])\n",
            "\n"
          ]
        }
      ]
    },
    {
      "cell_type": "code",
      "source": [
        "# Criação de array com lista\n",
        "\n",
        "Lista = [1,2,3,4,5,6,7,8,9,10.] #Colocar um ponto num número determina que o tipo seja \"float\"\n",
        "Vetor = np.array(Lista)\n",
        "\n",
        "#Um vetor é um array com apenas uma dimensão.\n",
        "#Cada dimensão é uma camada (isso será visto mais a diante).\n",
        "# Um array com uma camada tem uma lista.\n",
        "\n",
        "print(Vetor)"
      ],
      "metadata": {
        "colab": {
          "base_uri": "https://localhost:8080/"
        },
        "id": "9QadhJfFVjGv",
        "outputId": "e9671f32-c023-4084-9654-d5383b9cc561"
      },
      "execution_count": 7,
      "outputs": [
        {
          "output_type": "stream",
          "name": "stdout",
          "text": [
            "[ 1.  2.  3.  4.  5.  6.  7.  8.  9. 10.]\n"
          ]
        }
      ]
    },
    {
      "cell_type": "code",
      "source": [
        "# Criação de Array com Arange\n",
        "# Os parâmetros são: início, fim e intervalo (a distância entre cada número)\n",
        "\n",
        "VetorArange = np.arange(1,1) #Este array começa e termina no mesmo número, o que faz o array ficar vazio\n",
        "print(VetorArange)\n",
        "\n",
        "VetorArange = np.arange(10,1) #Ele tenta somar um como \"passo\", mas não consegue chegar a um número menor somando, então encerra sem adicionar número algum\n",
        "print(VetorArange)\n",
        "\n",
        "VetorArange = np.arange(10,1,-1) # Dando o \"passo\" negativo, somando o valor do passo ao valor inicial, é possível chegar ao valor final.\n",
        "print(VetorArange)\n",
        "\n",
        "VetorArange = np.arange(10,1,-1.,dtype='int64') #É possível determinar o tipo; caso contrário, ele é inferido pelos números dados\n",
        "# Mesmo dado um número com um ponto, o dtype foi estipulado com sucesso"
      ],
      "metadata": {
        "colab": {
          "base_uri": "https://localhost:8080/"
        },
        "id": "_2sBD4TVmuhu",
        "outputId": "359cd5ce-1ec4-405e-9bae-8fbcc246ee4d"
      },
      "execution_count": 8,
      "outputs": [
        {
          "output_type": "stream",
          "name": "stdout",
          "text": [
            "[]\n",
            "[]\n",
            "[10  9  8  7  6  5  4  3  2]\n"
          ]
        }
      ]
    },
    {
      "cell_type": "code",
      "source": [
        "# Um array preenchido com zeros\n",
        "# O primeiro parâmetro é o shape do array - dado em uma tupla\n",
        "\n",
        "MatrizZeros = np.zeros((5,20)) # Uma matriz de 5x20 (5 vetores de 20 itens)\n",
        "print(MatrizZeros)\n",
        "\n",
        "print()\n",
        "\n",
        "MatrizZerosLike = np.zeros_like(VetorArange) #Cria um array com o mesmo shape de outro, mas com todos os valores sendo zero\n",
        "print(MatrizZerosLike)"
      ],
      "metadata": {
        "colab": {
          "base_uri": "https://localhost:8080/"
        },
        "id": "PMPNpF3nzdbz",
        "outputId": "5ffddf4f-7dde-48da-d888-7a6f3db3da83"
      },
      "execution_count": 9,
      "outputs": [
        {
          "output_type": "stream",
          "name": "stdout",
          "text": [
            "[[0. 0. 0. 0. 0. 0. 0. 0. 0. 0. 0. 0. 0. 0. 0. 0. 0. 0. 0. 0.]\n",
            " [0. 0. 0. 0. 0. 0. 0. 0. 0. 0. 0. 0. 0. 0. 0. 0. 0. 0. 0. 0.]\n",
            " [0. 0. 0. 0. 0. 0. 0. 0. 0. 0. 0. 0. 0. 0. 0. 0. 0. 0. 0. 0.]\n",
            " [0. 0. 0. 0. 0. 0. 0. 0. 0. 0. 0. 0. 0. 0. 0. 0. 0. 0. 0. 0.]\n",
            " [0. 0. 0. 0. 0. 0. 0. 0. 0. 0. 0. 0. 0. 0. 0. 0. 0. 0. 0. 0.]]\n",
            "\n",
            "[0 0 0 0 0 0 0 0 0]\n"
          ]
        }
      ]
    },
    {
      "cell_type": "code",
      "source": [
        "# Retorna uma matriz (um array bidimensional) com todos os valores zero, exceto numa diagonal\n",
        "\n",
        "MatrizOlho = np.eye(5)\n",
        "print(MatrizOlho)\n",
        "\n",
        "#Deslocando a diagonal para baixo e determiando o número de colunas (valores dentro dos vetores)\n",
        "print()\n",
        "\n",
        "MatrizOlho2 = np.eye(N=15,M=7,k=-4)\n",
        "print(MatrizOlho2)"
      ],
      "metadata": {
        "id": "pGJhaU4M2D4D",
        "outputId": "780f49ea-1810-41f3-cd52-626015c8a630",
        "colab": {
          "base_uri": "https://localhost:8080/"
        }
      },
      "execution_count": 24,
      "outputs": [
        {
          "output_type": "stream",
          "name": "stdout",
          "text": [
            "[[1. 0. 0. 0. 0.]\n",
            " [0. 1. 0. 0. 0.]\n",
            " [0. 0. 1. 0. 0.]\n",
            " [0. 0. 0. 1. 0.]\n",
            " [0. 0. 0. 0. 1.]]\n",
            "\n",
            "[[0. 0. 0. 0. 0. 0. 0.]\n",
            " [0. 0. 0. 0. 0. 0. 0.]\n",
            " [0. 0. 0. 0. 0. 0. 0.]\n",
            " [0. 0. 0. 0. 0. 0. 0.]\n",
            " [1. 0. 0. 0. 0. 0. 0.]\n",
            " [0. 1. 0. 0. 0. 0. 0.]\n",
            " [0. 0. 1. 0. 0. 0. 0.]\n",
            " [0. 0. 0. 1. 0. 0. 0.]\n",
            " [0. 0. 0. 0. 1. 0. 0.]\n",
            " [0. 0. 0. 0. 0. 1. 0.]\n",
            " [0. 0. 0. 0. 0. 0. 1.]\n",
            " [0. 0. 0. 0. 0. 0. 0.]\n",
            " [0. 0. 0. 0. 0. 0. 0.]\n",
            " [0. 0. 0. 0. 0. 0. 0.]\n",
            " [0. 0. 0. 0. 0. 0. 0.]]\n"
          ]
        }
      ]
    },
    {
      "cell_type": "code",
      "source": [
        "# Como o \"eye\", mas a lista serve como valores das diagonais\n",
        "# Forma uma matriz com lados do tamanho da lista.\n",
        "\n",
        "MatrizDiag = np.diag(Lista)\n",
        "\n",
        "print(MatrizDiag)"
      ],
      "metadata": {
        "colab": {
          "base_uri": "https://localhost:8080/"
        },
        "id": "7nMQCNXez1mb",
        "outputId": "b6f34b0e-447e-4830-ca03-fde2c307f83f"
      },
      "execution_count": 16,
      "outputs": [
        {
          "output_type": "stream",
          "name": "stdout",
          "text": [
            "[[ 1.  0.  0.  0.  0.  0.  0.  0.  0.  0.]\n",
            " [ 0.  2.  0.  0.  0.  0.  0.  0.  0.  0.]\n",
            " [ 0.  0.  3.  0.  0.  0.  0.  0.  0.  0.]\n",
            " [ 0.  0.  0.  4.  0.  0.  0.  0.  0.  0.]\n",
            " [ 0.  0.  0.  0.  5.  0.  0.  0.  0.  0.]\n",
            " [ 0.  0.  0.  0.  0.  6.  0.  0.  0.  0.]\n",
            " [ 0.  0.  0.  0.  0.  0.  7.  0.  0.  0.]\n",
            " [ 0.  0.  0.  0.  0.  0.  0.  8.  0.  0.]\n",
            " [ 0.  0.  0.  0.  0.  0.  0.  0.  9.  0.]\n",
            " [ 0.  0.  0.  0.  0.  0.  0.  0.  0. 10.]]\n"
          ]
        }
      ]
    },
    {
      "cell_type": "code",
      "source": [
        "VetorLinspace"
      ],
      "metadata": {
        "id": "ATGPDpzs-04Z"
      },
      "execution_count": null,
      "outputs": []
    },
    {
      "cell_type": "markdown",
      "source": [
        "## Investigação dos Arrays"
      ],
      "metadata": {
        "id": "lVSgjcK9wkqL"
      }
    },
    {
      "cell_type": "code",
      "source": [
        "# O tipo é ndarray - numpy data array\n",
        "print(type(Vetor))"
      ],
      "metadata": {
        "colab": {
          "base_uri": "https://localhost:8080/"
        },
        "id": "xAAYnrRnyqHb",
        "outputId": "2420b772-6053-44a3-931e-de422c4e367f"
      },
      "execution_count": 11,
      "outputs": [
        {
          "output_type": "stream",
          "name": "stdout",
          "text": [
            "<class 'numpy.ndarray'>\n"
          ]
        }
      ]
    },
    {
      "cell_type": "code",
      "source": [
        "# Guia-se por índices\n",
        "# A atribuição de valores é similar à de uma lista:\n",
        "\n",
        "Vetor[0] = 8\n",
        "print(Vetor)\n",
        "print(Vetor[9])"
      ],
      "metadata": {
        "colab": {
          "base_uri": "https://localhost:8080/"
        },
        "id": "NK8vWngUlZI5",
        "outputId": "588f4e4a-ecdd-4847-ff24-37a1d8d93d22"
      },
      "execution_count": 12,
      "outputs": [
        {
          "output_type": "stream",
          "name": "stdout",
          "text": [
            "[ 8.  2.  3.  4.  5.  6.  7.  8.  9. 10.]\n",
            "10.0\n"
          ]
        }
      ]
    },
    {
      "cell_type": "code",
      "source": [
        "# O formato do array:\n",
        "\n",
        "print(Vetor.shape)\n",
        "print(type(Vetor.shape))\n",
        "\n",
        "#O resultado é uma tupla, onde cada número é a quantidade de vetores em cada dimensão"
      ],
      "metadata": {
        "colab": {
          "base_uri": "https://localhost:8080/"
        },
        "id": "sa4WG0UyYwqD",
        "outputId": "96124e9b-aa0a-4540-b986-9f9a242a76b4"
      },
      "execution_count": 13,
      "outputs": [
        {
          "output_type": "stream",
          "name": "stdout",
          "text": [
            "(10,)\n",
            "<class 'tuple'>\n"
          ]
        }
      ]
    },
    {
      "cell_type": "code",
      "source": [
        "#dtype é o tipo dos dados\n",
        "#Arrays só aceitam dados de um mesmo tipo, e apenas números\n",
        "\n",
        "print(Vetor.dtype,)\n",
        "print(VetorArange.dtype,)\n",
        "\n",
        "print('')\n",
        "\n",
        "print(type(Vetor.dtype))\n"
      ],
      "metadata": {
        "colab": {
          "base_uri": "https://localhost:8080/"
        },
        "id": "8DBSHnNHmsba",
        "outputId": "826c5eca-e3a2-4330-8afc-644fe231e160"
      },
      "execution_count": 14,
      "outputs": [
        {
          "output_type": "stream",
          "name": "stdout",
          "text": [
            "float64\n",
            "int64\n",
            "\n",
            "<class 'numpy.dtype[float64]'>\n"
          ]
        }
      ]
    },
    {
      "cell_type": "code",
      "source": [
        "#Fornece os índices da diagonal de um array\n",
        "\n",
        "\n",
        "DiagIndices = np.diag_indices(3,4)\n",
        "# A diagonal de uma matriz hipotética com N atributos e M dimensões, sendo np.diag_indices(N,M)\n",
        "\n",
        "print(1,DiagIndices)\n",
        "print(2,type(DiagIndices))\n",
        "for i in DiagIndices:\n",
        "  print()\n",
        "  print(3,i)\n",
        "  print(4,type(i))\n",
        "\n",
        "try:\n",
        "  DiagIndices2 = np.diag_indices_from(VetorOlho2)\n",
        "  # Os índices de uma diagonal dada\n",
        "except ValueError:\n",
        "  print(5,ValueError.with_traceback)\n",
        "  # Todas as dimensões do array precisam ter o mesmo tamanho para que haja uma diagonal definida\n",
        "else:\n",
        "  print(6,DiagIndices2)\n",
        "\n",
        "\n",
        "\n"
      ],
      "metadata": {
        "colab": {
          "base_uri": "https://localhost:8080/"
        },
        "id": "JiJPLUBz09Ck",
        "outputId": "6cbcc0f1-f206-4a82-8f7b-1048c88dc549"
      },
      "execution_count": 35,
      "outputs": [
        {
          "output_type": "stream",
          "name": "stdout",
          "text": [
            "1 (array([0, 1, 2]), array([0, 1, 2]), array([0, 1, 2]), array([0, 1, 2]))\n",
            "2 <class 'tuple'>\n",
            "\n",
            "3 [0 1 2]\n",
            "4 <class 'numpy.ndarray'>\n",
            "\n",
            "3 [0 1 2]\n",
            "4 <class 'numpy.ndarray'>\n",
            "\n",
            "3 [0 1 2]\n",
            "4 <class 'numpy.ndarray'>\n",
            "\n",
            "3 [0 1 2]\n",
            "4 <class 'numpy.ndarray'>\n",
            "<method 'with_traceback' of 'BaseException' objects>\n"
          ]
        }
      ]
    },
    {
      "cell_type": "markdown",
      "source": [
        "## Métodos do Array"
      ],
      "metadata": {
        "id": "Wf2w2GFuWnJt"
      }
    },
    {
      "cell_type": "code",
      "source": [
        "#Soma acumulada.\n",
        "\n",
        "VetorCumSum = Vetor.cumsum()\n",
        "print(VetorCumSum)\n",
        "print(type(VetorCumSum))\n",
        "\n",
        "# O resultado é outro array"
      ],
      "metadata": {
        "colab": {
          "base_uri": "https://localhost:8080/"
        },
        "id": "imTHogYHQ30K",
        "outputId": "e28b7bec-555b-4d4a-c60e-be9099c16488"
      },
      "execution_count": 15,
      "outputs": [
        {
          "output_type": "stream",
          "name": "stdout",
          "text": [
            "[ 8. 10. 13. 17. 22. 28. 35. 43. 52. 62.]\n",
            "<class 'numpy.ndarray'>\n"
          ]
        }
      ]
    },
    {
      "cell_type": "code",
      "source": [
        ""
      ],
      "metadata": {
        "id": "2BN8eVMJl_QX"
      },
      "execution_count": 15,
      "outputs": []
    }
  ]
}