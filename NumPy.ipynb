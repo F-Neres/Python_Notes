{
  "nbformat": 4,
  "nbformat_minor": 0,
  "metadata": {
    "colab": {
      "name": "NumPy.ipynb",
      "provenance": [],
      "include_colab_link": true
    },
    "kernelspec": {
      "name": "python3",
      "display_name": "Python 3"
    },
    "language_info": {
      "name": "python"
    }
  },
  "cells": [
    {
      "cell_type": "markdown",
      "metadata": {
        "id": "view-in-github",
        "colab_type": "text"
      },
      "source": [
        "<a href=\"https://colab.research.google.com/github/F-Neres/Python_Notes/blob/main/NumPy.ipynb\" target=\"_parent\"><img src=\"https://colab.research.google.com/assets/colab-badge.svg\" alt=\"Open In Colab\"/></a>"
      ]
    },
    {
      "cell_type": "code",
      "source": [
        "import numpy as np"
      ],
      "metadata": {
        "id": "H9xvVVaSK8Pc"
      },
      "execution_count": 1,
      "outputs": []
    },
    {
      "cell_type": "code",
      "source": [
        "np.version"
      ],
      "metadata": {
        "colab": {
          "base_uri": "https://localhost:8080/"
        },
        "id": "Ymv_T-iDK-Ge",
        "outputId": "59ceaad9-fa62-44f2-966c-47242496e7be"
      },
      "execution_count": 2,
      "outputs": [
        {
          "output_type": "execute_result",
          "data": {
            "text/plain": [
              "<module 'numpy.version' from '/usr/local/lib/python3.7/dist-packages/numpy/version.py'>"
            ]
          },
          "metadata": {},
          "execution_count": 2
        }
      ]
    },
    {
      "cell_type": "code",
      "source": [
        "#   Versão do Numpy\n",
        "\n",
        "np.__version__"
      ],
      "metadata": {
        "colab": {
          "base_uri": "https://localhost:8080/",
          "height": 35
        },
        "id": "1WsCOrMgO8QZ",
        "outputId": "3b09d8cc-8047-4ede-81fa-bdd7c81e8e2d"
      },
      "execution_count": 3,
      "outputs": [
        {
          "output_type": "execute_result",
          "data": {
            "text/plain": [
              "'1.21.5'"
            ],
            "application/vnd.google.colaboratory.intrinsic+json": {
              "type": "string"
            }
          },
          "metadata": {},
          "execution_count": 3
        }
      ]
    },
    {
      "cell_type": "markdown",
      "source": [
        "#### Atualizar o numpy, no prompt:\n",
        "\n",
        "pip install numpy -U"
      ],
      "metadata": {
        "id": "yZgbQNpvOi4Q"
      }
    },
    {
      "cell_type": "code",
      "source": [
        "!pip install numpy -U"
      ],
      "metadata": {
        "colab": {
          "base_uri": "https://localhost:8080/"
        },
        "id": "7zoNXJMSQmXZ",
        "outputId": "d92b8615-4d1a-4de3-cdc7-1315efaa6a56"
      },
      "execution_count": 4,
      "outputs": [
        {
          "output_type": "stream",
          "name": "stdout",
          "text": [
            "Requirement already satisfied: numpy in /usr/local/lib/python3.7/dist-packages (1.21.5)\n"
          ]
        }
      ]
    },
    {
      "cell_type": "code",
      "source": [
        "# O que há num array\n",
        "\n",
        "help(np.array)"
      ],
      "metadata": {
        "id": "pc0_iGaGQgCa"
      },
      "execution_count": null,
      "outputs": []
    },
    {
      "cell_type": "markdown",
      "source": [
        "## **Criação de Array**"
      ],
      "metadata": {
        "id": "J4HXFAdnQXQh"
      }
    },
    {
      "cell_type": "code",
      "source": [
        "# Criação de array com lista\n",
        "\n",
        "Lista = [1,2,3,4,5,6,7,8,9,10.] #Colocar um ponto num número determina que o tipo seja \"float\"\n",
        "Vetor = np.array(Lista)\n",
        "\n",
        "#Um vetor é um array com apenas uma dimensão.\n",
        "#Cada dimensão é uma camada (isso será visto mais a diante).\n",
        "# Um array com uma camada tem uma lista.\n",
        "\n",
        "print(Vetor)"
      ],
      "metadata": {
        "colab": {
          "base_uri": "https://localhost:8080/"
        },
        "id": "9QadhJfFVjGv",
        "outputId": "55a02f30-7080-4861-a6e1-6f051ce8fd74"
      },
      "execution_count": 6,
      "outputs": [
        {
          "output_type": "stream",
          "name": "stdout",
          "text": [
            "[ 1.  2.  3.  4.  5.  6.  7.  8.  9. 10.]\n"
          ]
        }
      ]
    },
    {
      "cell_type": "code",
      "source": [
        "#Criando uma lista composta por listas.\n",
        "\n",
        "Lista_Lista = [Lista for i in range(len(Lista)-2)]\n",
        "print(Lista_Lista)\n",
        "\n",
        "print()\n",
        "\n",
        "# Isso proporcionará criar um array bidimensional, uma matriz:\n",
        "Matriz = np.array(Lista_Lista)\n",
        "print(Matriz)"
      ],
      "metadata": {
        "colab": {
          "base_uri": "https://localhost:8080/"
        },
        "id": "qR2-Pf0m1gSM",
        "outputId": "190db4d8-6997-4183-82a1-f43908260e73"
      },
      "execution_count": 7,
      "outputs": [
        {
          "output_type": "stream",
          "name": "stdout",
          "text": [
            "[[1, 2, 3, 4, 5, 6, 7, 8, 9, 10.0], [1, 2, 3, 4, 5, 6, 7, 8, 9, 10.0], [1, 2, 3, 4, 5, 6, 7, 8, 9, 10.0], [1, 2, 3, 4, 5, 6, 7, 8, 9, 10.0], [1, 2, 3, 4, 5, 6, 7, 8, 9, 10.0], [1, 2, 3, 4, 5, 6, 7, 8, 9, 10.0], [1, 2, 3, 4, 5, 6, 7, 8, 9, 10.0], [1, 2, 3, 4, 5, 6, 7, 8, 9, 10.0]]\n",
            "\n",
            "[[ 1.  2.  3.  4.  5.  6.  7.  8.  9. 10.]\n",
            " [ 1.  2.  3.  4.  5.  6.  7.  8.  9. 10.]\n",
            " [ 1.  2.  3.  4.  5.  6.  7.  8.  9. 10.]\n",
            " [ 1.  2.  3.  4.  5.  6.  7.  8.  9. 10.]\n",
            " [ 1.  2.  3.  4.  5.  6.  7.  8.  9. 10.]\n",
            " [ 1.  2.  3.  4.  5.  6.  7.  8.  9. 10.]\n",
            " [ 1.  2.  3.  4.  5.  6.  7.  8.  9. 10.]\n",
            " [ 1.  2.  3.  4.  5.  6.  7.  8.  9. 10.]]\n"
          ]
        }
      ]
    },
    {
      "cell_type": "code",
      "source": [
        "# Criação de Matriz, especificamente:\n",
        "\n",
        "MatrizMesmo = np.matrix(Lista_Lista)\n",
        "print(MatrizMesmo)"
      ],
      "metadata": {
        "colab": {
          "base_uri": "https://localhost:8080/"
        },
        "id": "29lr_O2S6CEW",
        "outputId": "6af42d02-f634-4a3b-f460-ecb335817dd5"
      },
      "execution_count": 8,
      "outputs": [
        {
          "output_type": "stream",
          "name": "stdout",
          "text": [
            "[[ 1.  2.  3.  4.  5.  6.  7.  8.  9. 10.]\n",
            " [ 1.  2.  3.  4.  5.  6.  7.  8.  9. 10.]\n",
            " [ 1.  2.  3.  4.  5.  6.  7.  8.  9. 10.]\n",
            " [ 1.  2.  3.  4.  5.  6.  7.  8.  9. 10.]\n",
            " [ 1.  2.  3.  4.  5.  6.  7.  8.  9. 10.]\n",
            " [ 1.  2.  3.  4.  5.  6.  7.  8.  9. 10.]\n",
            " [ 1.  2.  3.  4.  5.  6.  7.  8.  9. 10.]\n",
            " [ 1.  2.  3.  4.  5.  6.  7.  8.  9. 10.]]\n"
          ]
        }
      ]
    },
    {
      "cell_type": "code",
      "source": [
        "# Criação de Array com Arange\n",
        "# Os parâmetros são: início, fim e intervalo (a distância entre cada número)\n",
        "\n",
        "VetorArange = np.arange(1,1) #Este array começa e termina no mesmo número, o que faz o array ficar vazio\n",
        "print(VetorArange)\n",
        "\n",
        "VetorArange = np.arange(10,1) #Ele tenta somar um como \"passo\", mas não consegue chegar a um número menor somando, então encerra sem adicionar número algum\n",
        "print(VetorArange)\n",
        "\n",
        "VetorArange = np.arange(10,1,-1) # Dando o \"passo\" negativo, somando o valor do passo ao valor inicial, é possível chegar ao valor final.\n",
        "print(VetorArange)\n",
        "\n",
        "VetorArange = np.arange(10,1,-1.,dtype='int64') #É possível determinar o tipo; caso contrário, ele é inferido pelos números dados\n",
        "# Mesmo dado um número com um ponto, o dtype foi estipulado com sucesso"
      ],
      "metadata": {
        "colab": {
          "base_uri": "https://localhost:8080/"
        },
        "id": "_2sBD4TVmuhu",
        "outputId": "b9933273-2579-46aa-9c0d-ee3a87856f50"
      },
      "execution_count": 9,
      "outputs": [
        {
          "output_type": "stream",
          "name": "stdout",
          "text": [
            "[]\n",
            "[]\n",
            "[10  9  8  7  6  5  4  3  2]\n"
          ]
        }
      ]
    },
    {
      "cell_type": "code",
      "source": [
        "# Um array preenchido com zeros\n",
        "# O primeiro parâmetro é o shape do array - dado em uma tupla\n",
        "\n",
        "MatrizZeros = np.zeros((5,20)) # Uma matriz de 5x20 (5 vetores de 20 itens)\n",
        "print(MatrizZeros)\n",
        "\n",
        "print()\n",
        "\n",
        "MatrizZerosLike = np.zeros_like(VetorArange) #Cria um array com o mesmo shape de outro, mas com todos os valores sendo zero\n",
        "print(MatrizZerosLike)"
      ],
      "metadata": {
        "colab": {
          "base_uri": "https://localhost:8080/"
        },
        "id": "PMPNpF3nzdbz",
        "outputId": "758c1443-0790-43a1-f5ca-1aacab58e453"
      },
      "execution_count": 10,
      "outputs": [
        {
          "output_type": "stream",
          "name": "stdout",
          "text": [
            "[[0. 0. 0. 0. 0. 0. 0. 0. 0. 0. 0. 0. 0. 0. 0. 0. 0. 0. 0. 0.]\n",
            " [0. 0. 0. 0. 0. 0. 0. 0. 0. 0. 0. 0. 0. 0. 0. 0. 0. 0. 0. 0.]\n",
            " [0. 0. 0. 0. 0. 0. 0. 0. 0. 0. 0. 0. 0. 0. 0. 0. 0. 0. 0. 0.]\n",
            " [0. 0. 0. 0. 0. 0. 0. 0. 0. 0. 0. 0. 0. 0. 0. 0. 0. 0. 0. 0.]\n",
            " [0. 0. 0. 0. 0. 0. 0. 0. 0. 0. 0. 0. 0. 0. 0. 0. 0. 0. 0. 0.]]\n",
            "\n",
            "[0 0 0 0 0 0 0 0 0]\n"
          ]
        }
      ]
    },
    {
      "cell_type": "code",
      "source": [
        "# Um array preenchido com uns\n",
        "# O primeiro parâmetro é o shape do array - dado em uma tupla\n",
        "\n",
        "MatrizUns = np.ones((5,20)) # Uma matriz de 5x20 (5 vetores de 20 itens)\n",
        "print(MatrizUns)\n",
        "\n",
        "print()\n",
        "\n",
        "MatrizUnsLike = np.ones_like(Matriz) #Cria um array com o mesmo shape de outro, mas com todos os valores sendo zero\n",
        "print(MatrizUnsLike)"
      ],
      "metadata": {
        "colab": {
          "base_uri": "https://localhost:8080/"
        },
        "id": "zaTzqdBv3_Yj",
        "outputId": "3d772ad9-ff7c-4a31-bce2-0db2bb3938a2"
      },
      "execution_count": 11,
      "outputs": [
        {
          "output_type": "stream",
          "name": "stdout",
          "text": [
            "[[1. 1. 1. 1. 1. 1. 1. 1. 1. 1. 1. 1. 1. 1. 1. 1. 1. 1. 1. 1.]\n",
            " [1. 1. 1. 1. 1. 1. 1. 1. 1. 1. 1. 1. 1. 1. 1. 1. 1. 1. 1. 1.]\n",
            " [1. 1. 1. 1. 1. 1. 1. 1. 1. 1. 1. 1. 1. 1. 1. 1. 1. 1. 1. 1.]\n",
            " [1. 1. 1. 1. 1. 1. 1. 1. 1. 1. 1. 1. 1. 1. 1. 1. 1. 1. 1. 1.]\n",
            " [1. 1. 1. 1. 1. 1. 1. 1. 1. 1. 1. 1. 1. 1. 1. 1. 1. 1. 1. 1.]]\n",
            "\n",
            "[[1. 1. 1. 1. 1. 1. 1. 1. 1. 1.]\n",
            " [1. 1. 1. 1. 1. 1. 1. 1. 1. 1.]\n",
            " [1. 1. 1. 1. 1. 1. 1. 1. 1. 1.]\n",
            " [1. 1. 1. 1. 1. 1. 1. 1. 1. 1.]\n",
            " [1. 1. 1. 1. 1. 1. 1. 1. 1. 1.]\n",
            " [1. 1. 1. 1. 1. 1. 1. 1. 1. 1.]\n",
            " [1. 1. 1. 1. 1. 1. 1. 1. 1. 1.]\n",
            " [1. 1. 1. 1. 1. 1. 1. 1. 1. 1.]]\n"
          ]
        }
      ]
    },
    {
      "cell_type": "code",
      "source": [
        "# Retorna uma matriz (um array bidimensional) com todos os valores zero, exceto numa diagonal\n",
        "\n",
        "MatrizOlho = np.eye(5)\n",
        "print(MatrizOlho)\n",
        "\n",
        "#Deslocando a diagonal para baixo e determiando o número de colunas (valores dentro dos vetores)\n",
        "print()\n",
        "\n",
        "MatrizOlho2 = np.eye(N=15,M=7,k=-4)\n",
        "print(MatrizOlho2)"
      ],
      "metadata": {
        "id": "pGJhaU4M2D4D",
        "outputId": "f0739133-94ff-4b56-b1f6-f609c1a69d8d",
        "colab": {
          "base_uri": "https://localhost:8080/"
        }
      },
      "execution_count": 12,
      "outputs": [
        {
          "output_type": "stream",
          "name": "stdout",
          "text": [
            "[[1. 0. 0. 0. 0.]\n",
            " [0. 1. 0. 0. 0.]\n",
            " [0. 0. 1. 0. 0.]\n",
            " [0. 0. 0. 1. 0.]\n",
            " [0. 0. 0. 0. 1.]]\n",
            "\n",
            "[[0. 0. 0. 0. 0. 0. 0.]\n",
            " [0. 0. 0. 0. 0. 0. 0.]\n",
            " [0. 0. 0. 0. 0. 0. 0.]\n",
            " [0. 0. 0. 0. 0. 0. 0.]\n",
            " [1. 0. 0. 0. 0. 0. 0.]\n",
            " [0. 1. 0. 0. 0. 0. 0.]\n",
            " [0. 0. 1. 0. 0. 0. 0.]\n",
            " [0. 0. 0. 1. 0. 0. 0.]\n",
            " [0. 0. 0. 0. 1. 0. 0.]\n",
            " [0. 0. 0. 0. 0. 1. 0.]\n",
            " [0. 0. 0. 0. 0. 0. 1.]\n",
            " [0. 0. 0. 0. 0. 0. 0.]\n",
            " [0. 0. 0. 0. 0. 0. 0.]\n",
            " [0. 0. 0. 0. 0. 0. 0.]\n",
            " [0. 0. 0. 0. 0. 0. 0.]]\n"
          ]
        }
      ]
    },
    {
      "cell_type": "code",
      "source": [
        "# Como o \"eye\", mas a lista serve como valores das diagonais\n",
        "# Forma uma matriz com lados do tamanho da lista.\n",
        "\n",
        "MatrizDiag = np.diag(Lista)\n",
        "\n",
        "print(MatrizDiag)"
      ],
      "metadata": {
        "colab": {
          "base_uri": "https://localhost:8080/"
        },
        "id": "7nMQCNXez1mb",
        "outputId": "bb9a2350-c576-4793-a56a-baa70eaaab26"
      },
      "execution_count": 13,
      "outputs": [
        {
          "output_type": "stream",
          "name": "stdout",
          "text": [
            "[[ 1.  0.  0.  0.  0.  0.  0.  0.  0.  0.]\n",
            " [ 0.  2.  0.  0.  0.  0.  0.  0.  0.  0.]\n",
            " [ 0.  0.  3.  0.  0.  0.  0.  0.  0.  0.]\n",
            " [ 0.  0.  0.  4.  0.  0.  0.  0.  0.  0.]\n",
            " [ 0.  0.  0.  0.  5.  0.  0.  0.  0.  0.]\n",
            " [ 0.  0.  0.  0.  0.  6.  0.  0.  0.  0.]\n",
            " [ 0.  0.  0.  0.  0.  0.  7.  0.  0.  0.]\n",
            " [ 0.  0.  0.  0.  0.  0.  0.  8.  0.  0.]\n",
            " [ 0.  0.  0.  0.  0.  0.  0.  0.  9.  0.]\n",
            " [ 0.  0.  0.  0.  0.  0.  0.  0.  0. 10.]]\n"
          ]
        }
      ]
    },
    {
      "cell_type": "code",
      "source": [
        "# Cria um vetor com N valores (defaut = 50) que vai de primeiro parâmetro ao segundo\n",
        "\n",
        "VetorLinspace = np.linspace(0,50)\n",
        "print(VetorLinspace)\n",
        "print()\n",
        "VetorLinspace = np.linspace(0,10)\n",
        "print(VetorLinspace)\n",
        "\n",
        "print()\n",
        "\n",
        "VetorLinspace = np.linspace(start=0,stop=10,num=2,endpoint=False,axis=-1)\n",
        "#Dois valores(num), não incluindo o último (endpoind),\n",
        "print(VetorLinspace)"
      ],
      "metadata": {
        "colab": {
          "base_uri": "https://localhost:8080/"
        },
        "id": "ATGPDpzs-04Z",
        "outputId": "5599ef31-f872-416c-c50c-20c3d2a251f6"
      },
      "execution_count": 14,
      "outputs": [
        {
          "output_type": "stream",
          "name": "stdout",
          "text": [
            "[ 0.          1.02040816  2.04081633  3.06122449  4.08163265  5.10204082\n",
            "  6.12244898  7.14285714  8.16326531  9.18367347 10.20408163 11.2244898\n",
            " 12.24489796 13.26530612 14.28571429 15.30612245 16.32653061 17.34693878\n",
            " 18.36734694 19.3877551  20.40816327 21.42857143 22.44897959 23.46938776\n",
            " 24.48979592 25.51020408 26.53061224 27.55102041 28.57142857 29.59183673\n",
            " 30.6122449  31.63265306 32.65306122 33.67346939 34.69387755 35.71428571\n",
            " 36.73469388 37.75510204 38.7755102  39.79591837 40.81632653 41.83673469\n",
            " 42.85714286 43.87755102 44.89795918 45.91836735 46.93877551 47.95918367\n",
            " 48.97959184 50.        ]\n",
            "\n",
            "[ 0.          0.20408163  0.40816327  0.6122449   0.81632653  1.02040816\n",
            "  1.2244898   1.42857143  1.63265306  1.83673469  2.04081633  2.24489796\n",
            "  2.44897959  2.65306122  2.85714286  3.06122449  3.26530612  3.46938776\n",
            "  3.67346939  3.87755102  4.08163265  4.28571429  4.48979592  4.69387755\n",
            "  4.89795918  5.10204082  5.30612245  5.51020408  5.71428571  5.91836735\n",
            "  6.12244898  6.32653061  6.53061224  6.73469388  6.93877551  7.14285714\n",
            "  7.34693878  7.55102041  7.75510204  7.95918367  8.16326531  8.36734694\n",
            "  8.57142857  8.7755102   8.97959184  9.18367347  9.3877551   9.59183673\n",
            "  9.79591837 10.        ]\n",
            "\n",
            "[0. 5.]\n"
          ]
        }
      ]
    },
    {
      "cell_type": "code",
      "source": [
        "#Como o linspace, mas os valores são dados em log.\n",
        "\n",
        "VetorLogspace = np.logspace(10,50,40)\n",
        "print(VetorLogspace)\n",
        "\n",
        "print()\n",
        "\n",
        "VetorLogspace = np.logspace(0,1,40)\n",
        "print(VetorLogspace)"
      ],
      "metadata": {
        "colab": {
          "base_uri": "https://localhost:8080/"
        },
        "id": "M3wQScXgC_0Q",
        "outputId": "1f9c357c-3a1f-4728-d3ac-57f70b23fe83"
      },
      "execution_count": 15,
      "outputs": [
        {
          "output_type": "stream",
          "name": "stdout",
          "text": [
            "[1.00000000e+10 1.06081836e+11 1.12533558e+12 1.19377664e+13\n",
            " 1.26638017e+14 1.34339933e+15 1.42510267e+16 1.51177507e+17\n",
            " 1.60371874e+18 1.70125428e+19 1.80472177e+20 1.91448198e+21\n",
            " 2.03091762e+22 2.15443469e+23 2.28546386e+24 2.42446202e+25\n",
            " 2.57191381e+26 2.72833338e+27 2.89426612e+28 3.07029063e+29\n",
            " 3.25702066e+30 3.45510729e+31 3.66524124e+32 3.88815518e+33\n",
            " 4.12462638e+34 4.37547938e+35 4.64158883e+36 4.92388263e+37\n",
            " 5.22334507e+38 5.54102033e+39 5.87801607e+40 6.23550734e+41\n",
            " 6.61474064e+42 7.01703829e+43 7.44380301e+44 7.89652287e+45\n",
            " 8.37677640e+46 8.88623816e+47 9.42668455e+48 1.00000000e+50]\n",
            "\n",
            "[ 1.          1.06081836  1.12533558  1.19377664  1.26638017  1.34339933\n",
            "  1.42510267  1.51177507  1.60371874  1.70125428  1.80472177  1.91448198\n",
            "  2.03091762  2.15443469  2.28546386  2.42446202  2.57191381  2.72833338\n",
            "  2.89426612  3.07029063  3.25702066  3.45510729  3.66524124  3.88815518\n",
            "  4.12462638  4.37547938  4.64158883  4.92388263  5.22334507  5.54102033\n",
            "  5.87801607  6.23550734  6.61474064  7.01703829  7.44380301  7.89652287\n",
            "  8.3767764   8.88623816  9.42668455 10.        ]\n"
          ]
        }
      ]
    },
    {
      "cell_type": "markdown",
      "source": [
        "## **Investigação dos Arrays**"
      ],
      "metadata": {
        "id": "lVSgjcK9wkqL"
      }
    },
    {
      "cell_type": "code",
      "source": [
        "# O tipo é ndarray - numpy data array\n",
        "print(type(Vetor))"
      ],
      "metadata": {
        "colab": {
          "base_uri": "https://localhost:8080/"
        },
        "id": "xAAYnrRnyqHb",
        "outputId": "73912293-cb04-40ae-df58-c9bba269a1ef"
      },
      "execution_count": 16,
      "outputs": [
        {
          "output_type": "stream",
          "name": "stdout",
          "text": [
            "<class 'numpy.ndarray'>\n"
          ]
        }
      ]
    },
    {
      "cell_type": "code",
      "source": [
        "# Guia-se por índices\n",
        "# A atribuição de valores é similar à de uma lista:\n",
        "\n",
        "Vetor[0] = 8\n",
        "print(Vetor)\n",
        "print(Vetor[9])"
      ],
      "metadata": {
        "colab": {
          "base_uri": "https://localhost:8080/"
        },
        "id": "NK8vWngUlZI5",
        "outputId": "17b7b106-7eb0-49c8-9dc6-ee61fd72adcd"
      },
      "execution_count": 17,
      "outputs": [
        {
          "output_type": "stream",
          "name": "stdout",
          "text": [
            "[ 8.  2.  3.  4.  5.  6.  7.  8.  9. 10.]\n",
            "10.0\n"
          ]
        }
      ]
    },
    {
      "cell_type": "code",
      "source": [
        "print(Matriz)\n",
        "print(type(Matriz))\n",
        "\n",
        "print()\n",
        "\n",
        "print(Matriz[2]) #A linha cujo índice é 2.\n",
        "print(type(Matriz[2]))\n",
        "# O tipo da linha é um array, assim como a matriz\n",
        "print(type(Matriz[2])==type(Matriz))\n",
        "\n",
        "print()\n",
        "\n",
        "print(Matriz[0,1]) #O valor cuja linha tem índice 0 e a coluna tem índice 1.\n",
        "print(type(Matriz[0,1]))\n",
        "#O tipo do valor é 'float', mas pertencente ao pacote."
      ],
      "metadata": {
        "colab": {
          "base_uri": "https://localhost:8080/"
        },
        "id": "1VdYTqL_ygM-",
        "outputId": "17847c07-2bab-4809-d1f0-254e36db87da"
      },
      "execution_count": 30,
      "outputs": [
        {
          "output_type": "stream",
          "name": "stdout",
          "text": [
            "[[ 1.  2.  3.  4.  5.  6.  7.  8.  9. 10.]\n",
            " [ 1.  2.  3.  4.  5.  6.  7.  8.  9. 10.]\n",
            " [ 1.  2.  3.  4.  5.  6.  7.  8.  9. 10.]\n",
            " [ 1.  2.  3.  4.  5.  6.  7.  8.  9. 10.]\n",
            " [ 1.  2.  3.  4.  5.  6.  7.  8.  9. 10.]\n",
            " [ 1.  2.  3.  4.  5.  6.  7.  8.  9. 10.]\n",
            " [ 1.  2.  3.  4.  5.  6.  7.  8.  9. 10.]\n",
            " [ 1.  2.  3.  4.  5.  6.  7.  8.  9. 10.]]\n",
            "<class 'numpy.ndarray'>\n",
            "\n",
            "[ 1.  2.  3.  4.  5.  6.  7.  8.  9. 10.]\n",
            "<class 'numpy.ndarray'>\n",
            "True\n",
            "\n",
            "2.0\n",
            "<class 'numpy.float64'>\n"
          ]
        }
      ]
    },
    {
      "cell_type": "code",
      "source": [
        "# Quando um valor é atribuido a um array, aquele valor é atribuido a todos os valores do array\n",
        "\n",
        "Matriz[1] = 2\n",
        "print(Matriz)"
      ],
      "metadata": {
        "colab": {
          "base_uri": "https://localhost:8080/"
        },
        "id": "AqymE6NP0BBT",
        "outputId": "604440cb-e7b4-4207-8693-ad8d7938285d"
      },
      "execution_count": 32,
      "outputs": [
        {
          "output_type": "stream",
          "name": "stdout",
          "text": [
            "[[ 1.  2.  3.  4.  5.  6.  7.  8.  9. 10.]\n",
            " [ 2.  2.  2.  2.  2.  2.  2.  2.  2.  2.]\n",
            " [ 1.  2.  3.  4.  5.  6.  7.  8.  9. 10.]\n",
            " [ 1.  2.  3.  4.  5.  6.  7.  8.  9. 10.]\n",
            " [ 1.  2.  3.  4.  5.  6.  7.  8.  9. 10.]\n",
            " [ 1.  2.  3.  4.  5.  6.  7.  8.  9. 10.]\n",
            " [ 1.  2.  3.  4.  5.  6.  7.  8.  9. 10.]\n",
            " [ 1.  2.  3.  4.  5.  6.  7.  8.  9. 10.]]\n"
          ]
        }
      ]
    },
    {
      "cell_type": "code",
      "source": [
        "# O formato do array:\n",
        "\n",
        "print(Vetor.shape)\n",
        "print(type(Vetor.shape))\n",
        "\n",
        "print()\n",
        "print(Matriz.shape) #Atributo\n",
        "\n",
        "print()\n",
        "print(np.shape(Matriz)) #função\n",
        "\n",
        "#O resultado é uma tupla, onde cada número é o tamanho de cada dimensão\n",
        "#Em comparação com as listas matrioskas, o continente vem antes do conteúdo.\n",
        "#Linha, depois coluna.\n",
        "\n",
        "#Seja função ou atributo, o resultado é o mesmo."
      ],
      "metadata": {
        "colab": {
          "base_uri": "https://localhost:8080/"
        },
        "id": "sa4WG0UyYwqD",
        "outputId": "622baf25-8728-4771-95ef-8c7a10f8a58a"
      },
      "execution_count": 18,
      "outputs": [
        {
          "output_type": "stream",
          "name": "stdout",
          "text": [
            "(10,)\n",
            "<class 'tuple'>\n",
            "\n",
            "(8, 10)\n",
            "\n",
            "(8, 10)\n"
          ]
        }
      ]
    },
    {
      "cell_type": "code",
      "source": [
        "# Número de dimensões\n",
        "\n",
        "print(Matriz.ndim)"
      ],
      "metadata": {
        "colab": {
          "base_uri": "https://localhost:8080/"
        },
        "id": "ygnFgUlNNFfY",
        "outputId": "c8fff447-bf12-4909-9b94-2dee2e70393a"
      },
      "execution_count": 38,
      "outputs": [
        {
          "output_type": "stream",
          "name": "stdout",
          "text": [
            "2\n"
          ]
        }
      ]
    },
    {
      "cell_type": "code",
      "source": [
        "#Número de elementos num array\n",
        "\n",
        "print(Matriz.size)"
      ],
      "metadata": {
        "colab": {
          "base_uri": "https://localhost:8080/"
        },
        "id": "ao6Djs8N530t",
        "outputId": "581a99ed-f5bc-4f7f-8bb6-0ec02a37041e"
      },
      "execution_count": 19,
      "outputs": [
        {
          "output_type": "stream",
          "name": "stdout",
          "text": [
            "80\n"
          ]
        }
      ]
    },
    {
      "cell_type": "code",
      "source": [
        "#dtype é o tipo dos dados\n",
        "#Arrays só aceitam dados de um mesmo tipo, e apenas números\n",
        "\n",
        "print(Vetor.dtype,)\n",
        "print(VetorArange.dtype,)\n",
        "\n",
        "print('')\n",
        "\n",
        "print(type(Vetor.dtype))\n"
      ],
      "metadata": {
        "colab": {
          "base_uri": "https://localhost:8080/"
        },
        "id": "8DBSHnNHmsba",
        "outputId": "ea23741d-cdb5-4808-ceaf-376c6f77b975"
      },
      "execution_count": 20,
      "outputs": [
        {
          "output_type": "stream",
          "name": "stdout",
          "text": [
            "float64\n",
            "int64\n",
            "\n",
            "<class 'numpy.dtype[float64]'>\n"
          ]
        }
      ]
    },
    {
      "cell_type": "code",
      "source": [
        "# Ocupação na memória:\n",
        "\n",
        "print(Matriz.itemsize)\n",
        "# Espaço de cada item na memória.\n",
        "\n",
        "print(Matriz.nbytes)\n",
        "# Espaço do array na memória\n",
        "\n",
        "print(Matriz.nbytes == Matriz.itemsize*Matriz.size)\n",
        "# O espaço total é igual ao espaço de cada item vezes o número de itens."
      ],
      "metadata": {
        "id": "XiRVCWgH9maQ",
        "outputId": "b623c715-93ed-454e-e97f-becc0ea1efa8",
        "colab": {
          "base_uri": "https://localhost:8080/"
        }
      },
      "execution_count": 21,
      "outputs": [
        {
          "output_type": "stream",
          "name": "stdout",
          "text": [
            "8\n",
            "640\n",
            "True\n"
          ]
        }
      ]
    },
    {
      "cell_type": "code",
      "source": [
        "#Fornece os índices da diagonal de um array\n",
        "\n",
        "\n",
        "DiagIndices = np.diag_indices(3,4)\n",
        "# A diagonal de uma matriz hipotética com N atributos e M dimensões, sendo np.diag_indices(N,M)\n",
        "\n",
        "print(1,DiagIndices)\n",
        "print(2,type(DiagIndices))\n",
        "for i in DiagIndices:\n",
        "  print()\n",
        "  print(3,i)\n",
        "  print(4,type(i))\n",
        "\n",
        "try:\n",
        "  DiagIndices2 = np.diag_indices_from(MatrizOlho2)\n",
        "  # Os índices de uma diagonal dada\n",
        "except ValueError:\n",
        "  print(5,ValueError.with_traceback)\n",
        "  # Todas as dimensões do array precisam ter o mesmo tamanho para que haja uma diagonal definida\n",
        "else:\n",
        "  print(6,DiagIndices2)\n",
        "\n",
        "\n",
        "\n"
      ],
      "metadata": {
        "colab": {
          "base_uri": "https://localhost:8080/"
        },
        "id": "JiJPLUBz09Ck",
        "outputId": "954bc2de-f984-49c8-85af-93d4979aea72"
      },
      "execution_count": 26,
      "outputs": [
        {
          "output_type": "stream",
          "name": "stdout",
          "text": [
            "1 (array([0, 1, 2]), array([0, 1, 2]), array([0, 1, 2]), array([0, 1, 2]))\n",
            "2 <class 'tuple'>\n",
            "\n",
            "3 [0 1 2]\n",
            "4 <class 'numpy.ndarray'>\n",
            "\n",
            "3 [0 1 2]\n",
            "4 <class 'numpy.ndarray'>\n",
            "\n",
            "3 [0 1 2]\n",
            "4 <class 'numpy.ndarray'>\n",
            "\n",
            "3 [0 1 2]\n",
            "4 <class 'numpy.ndarray'>\n",
            "5 <method 'with_traceback' of 'BaseException' objects>\n"
          ]
        }
      ]
    },
    {
      "cell_type": "markdown",
      "source": [
        "## **Métodos do Array**"
      ],
      "metadata": {
        "id": "Wf2w2GFuWnJt"
      }
    },
    {
      "cell_type": "code",
      "source": [
        "#Soma acumulada.\n",
        "\n",
        "VetorCumSum = Vetor.cumsum()\n",
        "print(VetorCumSum)\n",
        "print(type(VetorCumSum))\n",
        "\n",
        "# O resultado é outro array"
      ],
      "metadata": {
        "colab": {
          "base_uri": "https://localhost:8080/"
        },
        "id": "imTHogYHQ30K",
        "outputId": "8e2e7458-3fc6-4785-f1c5-a011302c7f0b"
      },
      "execution_count": 23,
      "outputs": [
        {
          "output_type": "stream",
          "name": "stdout",
          "text": [
            "[ 8. 10. 13. 17. 22. 28. 35. 43. 52. 62.]\n",
            "<class 'numpy.ndarray'>\n"
          ]
        }
      ]
    },
    {
      "cell_type": "markdown",
      "source": [
        "## **Random()**"
      ],
      "metadata": {
        "id": "R17TzTlDO95n"
      }
    },
    {
      "cell_type": "markdown",
      "source": [
        "Esta é uma função conveniente para usuários portando códigos do Matlab, e envolve ´random_sample'. Esta função recebe uma tupla para especificar o tamanho do output, que é consistente com outras funções do NumPy como 'numpy.zeros' e 'numpy.ones'."
      ],
      "metadata": {
        "id": "L2WGiXT0ScFx"
      }
    },
    {
      "cell_type": "markdown",
      "source": [
        "\n",
        "Cria um array de determinado formato e o popula com amostras aletórias de uma distribuição uniforme entre \"[0, 1)\"."
      ],
      "metadata": {
        "id": "06sN98niTTQn"
      }
    },
    {
      "cell_type": "code",
      "source": [
        "TensorRandom = np.random.rand(2,3,4)\n",
        "print(TensorRandom)"
      ],
      "metadata": {
        "colab": {
          "base_uri": "https://localhost:8080/"
        },
        "id": "PbzDzEiVQYWl",
        "outputId": "aadb02cc-edd0-42fc-c2d7-5aa9e5ce66a1"
      },
      "execution_count": 45,
      "outputs": [
        {
          "output_type": "stream",
          "name": "stdout",
          "text": [
            "[[[0.39964459 0.95074111 0.40751901 0.96874385]\n",
            "  [0.25332888 0.69800526 0.90050262 0.57869174]\n",
            "  [0.02401926 0.78905132 0.42629003 0.03136658]]\n",
            "\n",
            " [[0.10823625 0.50566473 0.14439613 0.90694144]\n",
            "  [0.39852778 0.36538301 0.17134749 0.28554756]\n",
            "  [0.08698963 0.6333274  0.81313137 0.78591935]]]\n"
          ]
        }
      ]
    },
    {
      "cell_type": "code",
      "source": [
        "# Como o comando acima, mas os valores aleatórios seguem uma distribuição normal.\n",
        "\n",
        "TensorRandomNormal = np.random.randn(2,3,4)\n",
        "print(TensorRandomNormal)"
      ],
      "metadata": {
        "colab": {
          "base_uri": "https://localhost:8080/"
        },
        "id": "853p-2fHZt3S",
        "outputId": "b30ee4b1-a6a9-45fe-e6ff-52acc67a3dcb"
      },
      "execution_count": 60,
      "outputs": [
        {
          "output_type": "stream",
          "name": "stdout",
          "text": [
            "[[[ 1.5290486   0.02756189  0.48324737 -0.80209079]\n",
            "  [-0.59650959 -0.13973837  1.6670562   0.27615619]\n",
            "  [-0.71168589 -0.44191332  2.12909847 -1.32654349]]\n",
            "\n",
            " [[ 0.04221595  0.33829082 -0.2698995  -1.33187436]\n",
            "  [-0.10509279  0.17120627 -0.01045821  1.44335555]\n",
            "  [-0.75922554  0.47220168  1.58424394  1.50058888]]]\n"
          ]
        }
      ]
    },
    {
      "cell_type": "code",
      "source": [
        "import matplotlib.pyplot as plt\n",
        "%matplotlib inline"
      ],
      "metadata": {
        "id": "mG2IQ6d4VWux"
      },
      "execution_count": 51,
      "outputs": []
    },
    {
      "cell_type": "code",
      "source": [
        "#Comparando as distribuições\n",
        "plt.show(plt.hist(np.random.rand(1000)))\n",
        "\n",
        "plt.show(plt.hist(np.random.randn(1000)))"
      ],
      "metadata": {
        "colab": {
          "base_uri": "https://localhost:8080/",
          "height": 513
        },
        "id": "8g5ajJ6uaeVP",
        "outputId": "75bd792c-0dcb-4b9a-960d-32077b51f2e0"
      },
      "execution_count": 68,
      "outputs": [
        {
          "output_type": "display_data",
          "data": {
            "text/plain": [
              "<Figure size 432x288 with 1 Axes>"
            ],
            "image/png": "[encoded data removed]"
          },
          "metadata": {
            "needs_background": "light"
          }
        },
        {
          "output_type": "display_data",
          "data": {
            "text/plain": [
              "<Figure size 432x288 with 1 Axes>"
            ],
            "image/png": "[encoded data removed]"
          },
          "metadata": {
            "needs_background": "light"
          }
        }
      ]
    },
    {
      "cell_type": "code",
      "source": [
        "#Comparando as distribuições\n",
        "plt.show(plt.hist(np.random.rand(1000,5)))\n",
        "\n",
        "plt.show(plt.hist(np.random.randn(1000,5)))"
      ],
      "metadata": {
        "colab": {
          "base_uri": "https://localhost:8080/",
          "height": 514
        },
        "id": "AwxF5yXlUIXU",
        "outputId": "730a9ed5-2c84-4d23-c29a-71a32a0006e2"
      },
      "execution_count": 70,
      "outputs": [
        {
          "output_type": "display_data",
          "data": {
            "text/plain": [
              "<Figure size 432x288 with 1 Axes>"
            ],
            "image/png": "[encoded data removed]"
          },
          "metadata": {
            "needs_background": "light"
          }
        },
        {
          "output_type": "display_data",
          "data": {
            "text/plain": [
              "<Figure size 432x288 with 1 Axes>"
            ],
            "image/png": "[encoded data removed]"
          },
          "metadata": {
            "needs_background": "light"
          }
        }
      ]
    },
    {
      "cell_type": "markdown",
      "source": [
        "## **Operações com Dataset**"
      ],
      "metadata": {
        "id": "HzK38Xzca1tu"
      }
    },
    {
      "cell_type": "code",
      "source": [
        "import os\n",
        "filename = os.path.join('suporte/iris.csv')"
      ],
      "metadata": {
        "id": "61XLH_HJWXgC"
      },
      "execution_count": 73,
      "outputs": []
    },
    {
      "cell_type": "code",
      "source": [
        "!head iris.csv"
      ],
      "metadata": {
        "id": "WNjyl5a3f17c",
        "outputId": "4bac2b54-76e0-487f-ab8e-6eaa3dec918d",
        "colab": {
          "base_uri": "https://localhost:8080/"
        }
      },
      "execution_count": 74,
      "outputs": [
        {
          "output_type": "stream",
          "name": "stdout",
          "text": [
            "head: cannot open 'iris.csv' for reading: No such file or directory\n"
          ]
        }
      ]
    },
    {
      "cell_type": "code",
      "source": [
        "import pandas as pd\n",
        "import requests\n",
        "import io\n",
        "    \n",
        "# Downloading the csv file from your GitHub account\n",
        "\n",
        "url = \"https://github.com/F-Neres/Python_Notes/blob/main/suport/iris.csv\" # Make sure the url is the raw version of the file on GitHub\n",
        "download = requests.get(url).content\n",
        "\n",
        "# Reading the downloaded content and turning it into a pandas dataframe\n",
        "\n",
        "##df = pd.read_csv(io.StringIO(download.decode('utf-8')))\n",
        "\n",
        "download_prep = io.StringIO(download.decode('utf-8'))\n",
        "\n",
        "# Printing out the first 5 rows of the dataframe\n",
        "\n",
        "arquivo = np.loadtxt(download_prep, delimiter=',', usecols=(0,1,2,3), skiprows=1)\n",
        "print (arquivo)"
      ],
      "metadata": {
        "id": "VXuBh1o4gLtm",
        "outputId": "72fc6318-4d58-4601-e0cc-1a0b24f0bd2d",
        "colab": {
          "base_uri": "https://localhost:8080/",
          "height": 363
        }
      },
      "execution_count": 77,
      "outputs": [
        {
          "output_type": "error",
          "ename": "IndexError",
          "evalue": "ignored",
          "traceback": [
            "\u001b[0;31m---------------------------------------------------------------------------\u001b[0m",
            "\u001b[0;31mIndexError\u001b[0m                                Traceback (most recent call last)",
            "\u001b[0;32m<ipython-input-77-284e3cc5419b>\u001b[0m in \u001b[0;36m<module>\u001b[0;34m()\u001b[0m\n\u001b[1;32m     16\u001b[0m \u001b[0;31m# Printing out the first 5 rows of the dataframe\u001b[0m\u001b[0;34m\u001b[0m\u001b[0;34m\u001b[0m\u001b[0;34m\u001b[0m\u001b[0m\n\u001b[1;32m     17\u001b[0m \u001b[0;34m\u001b[0m\u001b[0m\n\u001b[0;32m---> 18\u001b[0;31m \u001b[0marquivo\u001b[0m \u001b[0;34m=\u001b[0m \u001b[0mnp\u001b[0m\u001b[0;34m.\u001b[0m\u001b[0mloadtxt\u001b[0m\u001b[0;34m(\u001b[0m\u001b[0mdownload_prep\u001b[0m\u001b[0;34m,\u001b[0m \u001b[0mdelimiter\u001b[0m\u001b[0;34m=\u001b[0m\u001b[0;34m','\u001b[0m\u001b[0;34m,\u001b[0m \u001b[0musecols\u001b[0m\u001b[0;34m=\u001b[0m\u001b[0;34m(\u001b[0m\u001b[0;36m0\u001b[0m\u001b[0;34m,\u001b[0m\u001b[0;36m1\u001b[0m\u001b[0;34m,\u001b[0m\u001b[0;36m2\u001b[0m\u001b[0;34m,\u001b[0m\u001b[0;36m3\u001b[0m\u001b[0;34m)\u001b[0m\u001b[0;34m,\u001b[0m \u001b[0mskiprows\u001b[0m\u001b[0;34m=\u001b[0m\u001b[0;36m1\u001b[0m\u001b[0;34m)\u001b[0m\u001b[0;34m\u001b[0m\u001b[0;34m\u001b[0m\u001b[0m\n\u001b[0m\u001b[1;32m     19\u001b[0m \u001b[0mprint\u001b[0m \u001b[0;34m(\u001b[0m\u001b[0marquivo\u001b[0m\u001b[0;34m)\u001b[0m\u001b[0;34m\u001b[0m\u001b[0;34m\u001b[0m\u001b[0m\n",
            "\u001b[0;32m/usr/local/lib/python3.7/dist-packages/numpy/lib/npyio.py\u001b[0m in \u001b[0;36mloadtxt\u001b[0;34m(fname, dtype, comments, delimiter, converters, skiprows, usecols, unpack, ndmin, encoding, max_rows, like)\u001b[0m\n\u001b[1;32m   1146\u001b[0m         \u001b[0;31m# converting the data\u001b[0m\u001b[0;34m\u001b[0m\u001b[0;34m\u001b[0m\u001b[0;34m\u001b[0m\u001b[0m\n\u001b[1;32m   1147\u001b[0m         \u001b[0mX\u001b[0m \u001b[0;34m=\u001b[0m \u001b[0;32mNone\u001b[0m\u001b[0;34m\u001b[0m\u001b[0;34m\u001b[0m\u001b[0m\n\u001b[0;32m-> 1148\u001b[0;31m         \u001b[0;32mfor\u001b[0m \u001b[0mx\u001b[0m \u001b[0;32min\u001b[0m \u001b[0mread_data\u001b[0m\u001b[0;34m(\u001b[0m\u001b[0m_loadtxt_chunksize\u001b[0m\u001b[0;34m)\u001b[0m\u001b[0;34m:\u001b[0m\u001b[0;34m\u001b[0m\u001b[0;34m\u001b[0m\u001b[0m\n\u001b[0m\u001b[1;32m   1149\u001b[0m             \u001b[0;32mif\u001b[0m \u001b[0mX\u001b[0m \u001b[0;32mis\u001b[0m \u001b[0;32mNone\u001b[0m\u001b[0;34m:\u001b[0m\u001b[0;34m\u001b[0m\u001b[0;34m\u001b[0m\u001b[0m\n\u001b[1;32m   1150\u001b[0m                 \u001b[0mX\u001b[0m \u001b[0;34m=\u001b[0m \u001b[0mnp\u001b[0m\u001b[0;34m.\u001b[0m\u001b[0marray\u001b[0m\u001b[0;34m(\u001b[0m\u001b[0mx\u001b[0m\u001b[0;34m,\u001b[0m \u001b[0mdtype\u001b[0m\u001b[0;34m)\u001b[0m\u001b[0;34m\u001b[0m\u001b[0;34m\u001b[0m\u001b[0m\n",
            "\u001b[0;32m/usr/local/lib/python3.7/dist-packages/numpy/lib/npyio.py\u001b[0m in \u001b[0;36mread_data\u001b[0;34m(chunk_size)\u001b[0m\n\u001b[1;32m    990\u001b[0m                 \u001b[0;32mcontinue\u001b[0m\u001b[0;34m\u001b[0m\u001b[0;34m\u001b[0m\u001b[0m\n\u001b[1;32m    991\u001b[0m             \u001b[0;32mif\u001b[0m \u001b[0musecols\u001b[0m\u001b[0;34m:\u001b[0m\u001b[0;34m\u001b[0m\u001b[0;34m\u001b[0m\u001b[0m\n\u001b[0;32m--> 992\u001b[0;31m                 \u001b[0mvals\u001b[0m \u001b[0;34m=\u001b[0m \u001b[0;34m[\u001b[0m\u001b[0mvals\u001b[0m\u001b[0;34m[\u001b[0m\u001b[0mj\u001b[0m\u001b[0;34m]\u001b[0m \u001b[0;32mfor\u001b[0m \u001b[0mj\u001b[0m \u001b[0;32min\u001b[0m \u001b[0musecols\u001b[0m\u001b[0;34m]\u001b[0m\u001b[0;34m\u001b[0m\u001b[0;34m\u001b[0m\u001b[0m\n\u001b[0m\u001b[1;32m    993\u001b[0m             \u001b[0;32mif\u001b[0m \u001b[0mlen\u001b[0m\u001b[0;34m(\u001b[0m\u001b[0mvals\u001b[0m\u001b[0;34m)\u001b[0m \u001b[0;34m!=\u001b[0m \u001b[0mN\u001b[0m\u001b[0;34m:\u001b[0m\u001b[0;34m\u001b[0m\u001b[0;34m\u001b[0m\u001b[0m\n\u001b[1;32m    994\u001b[0m                 \u001b[0mline_num\u001b[0m \u001b[0;34m=\u001b[0m \u001b[0mi\u001b[0m \u001b[0;34m+\u001b[0m \u001b[0mskiprows\u001b[0m \u001b[0;34m+\u001b[0m \u001b[0;36m1\u001b[0m\u001b[0;34m\u001b[0m\u001b[0;34m\u001b[0m\u001b[0m\n",
            "\u001b[0;32m/usr/local/lib/python3.7/dist-packages/numpy/lib/npyio.py\u001b[0m in \u001b[0;36m<listcomp>\u001b[0;34m(.0)\u001b[0m\n\u001b[1;32m    990\u001b[0m                 \u001b[0;32mcontinue\u001b[0m\u001b[0;34m\u001b[0m\u001b[0;34m\u001b[0m\u001b[0m\n\u001b[1;32m    991\u001b[0m             \u001b[0;32mif\u001b[0m \u001b[0musecols\u001b[0m\u001b[0;34m:\u001b[0m\u001b[0;34m\u001b[0m\u001b[0;34m\u001b[0m\u001b[0m\n\u001b[0;32m--> 992\u001b[0;31m                 \u001b[0mvals\u001b[0m \u001b[0;34m=\u001b[0m \u001b[0;34m[\u001b[0m\u001b[0mvals\u001b[0m\u001b[0;34m[\u001b[0m\u001b[0mj\u001b[0m\u001b[0;34m]\u001b[0m \u001b[0;32mfor\u001b[0m \u001b[0mj\u001b[0m \u001b[0;32min\u001b[0m \u001b[0musecols\u001b[0m\u001b[0;34m]\u001b[0m\u001b[0;34m\u001b[0m\u001b[0;34m\u001b[0m\u001b[0m\n\u001b[0m\u001b[1;32m    993\u001b[0m             \u001b[0;32mif\u001b[0m \u001b[0mlen\u001b[0m\u001b[0;34m(\u001b[0m\u001b[0mvals\u001b[0m\u001b[0;34m)\u001b[0m \u001b[0;34m!=\u001b[0m \u001b[0mN\u001b[0m\u001b[0;34m:\u001b[0m\u001b[0;34m\u001b[0m\u001b[0;34m\u001b[0m\u001b[0m\n\u001b[1;32m    994\u001b[0m                 \u001b[0mline_num\u001b[0m \u001b[0;34m=\u001b[0m \u001b[0mi\u001b[0m \u001b[0;34m+\u001b[0m \u001b[0mskiprows\u001b[0m \u001b[0;34m+\u001b[0m \u001b[0;36m1\u001b[0m\u001b[0;34m\u001b[0m\u001b[0;34m\u001b[0m\u001b[0m\n",
            "\u001b[0;31mIndexError\u001b[0m: list index out of range"
          ]
        }
      ]
    },
    {
      "cell_type": "code",
      "source": [
        ""
      ],
      "metadata": {
        "id": "bm-UvqcxhhM2"
      },
      "execution_count": null,
      "outputs": []
    }
  ]
}