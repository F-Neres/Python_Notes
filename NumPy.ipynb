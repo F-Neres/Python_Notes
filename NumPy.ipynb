{
  "nbformat": 4,
  "nbformat_minor": 0,
  "metadata": {
    "colab": {
      "name": "NumPy.ipynb",
      "provenance": [],
      "authorship_tag": "ABX9TyNSWnBk4xinOqduW8bWOzpQ",
      "include_colab_link": true
    },
    "kernelspec": {
      "name": "python3",
      "display_name": "Python 3"
    },
    "language_info": {
      "name": "python"
    }
  },
  "cells": [
    {
      "cell_type": "markdown",
      "metadata": {
        "id": "view-in-github",
        "colab_type": "text"
      },
      "source": [
        "<a href=\"https://colab.research.google.com/github/F-Neres/Python_Notes/blob/main/NumPy.ipynb\" target=\"_parent\"><img src=\"https://colab.research.google.com/assets/colab-badge.svg\" alt=\"Open In Colab\"/></a>"
      ]
    },
    {
      "cell_type": "code",
      "source": [
        "import numpy as np"
      ],
      "metadata": {
        "id": "H9xvVVaSK8Pc"
      },
      "execution_count": 2,
      "outputs": []
    },
    {
      "cell_type": "code",
      "source": [
        "np.version"
      ],
      "metadata": {
        "colab": {
          "base_uri": "https://localhost:8080/"
        },
        "id": "Ymv_T-iDK-Ge",
        "outputId": "242e80e2-e0fe-4d65-b601-ff1c54eb48c9"
      },
      "execution_count": 3,
      "outputs": [
        {
          "output_type": "execute_result",
          "data": {
            "text/plain": [
              "<module 'numpy.version' from '/usr/local/lib/python3.7/dist-packages/numpy/version.py'>"
            ]
          },
          "metadata": {},
          "execution_count": 3
        }
      ]
    },
    {
      "cell_type": "code",
      "source": [
        "#   Versão do Numpy\n",
        "\n",
        "np.__version__"
      ],
      "metadata": {
        "colab": {
          "base_uri": "https://localhost:8080/",
          "height": 35
        },
        "id": "1WsCOrMgO8QZ",
        "outputId": "20ad8f89-c8eb-42a9-b0f1-3b9f01a6c693"
      },
      "execution_count": 5,
      "outputs": [
        {
          "output_type": "execute_result",
          "data": {
            "text/plain": [
              "'1.21.5'"
            ],
            "application/vnd.google.colaboratory.intrinsic+json": {
              "type": "string"
            }
          },
          "metadata": {},
          "execution_count": 5
        }
      ]
    },
    {
      "cell_type": "markdown",
      "source": [
        "#### Atualizar o numpy, no prompt:\n",
        "\n",
        "pip install numpy -U"
      ],
      "metadata": {
        "id": "yZgbQNpvOi4Q"
      }
    },
    {
      "cell_type": "code",
      "source": [
        "!pip install numpy -U"
      ],
      "metadata": {
        "colab": {
          "base_uri": "https://localhost:8080/"
        },
        "id": "7zoNXJMSQmXZ",
        "outputId": "3df16b35-b690-4a9a-fe91-73455ef6239f"
      },
      "execution_count": 6,
      "outputs": [
        {
          "output_type": "stream",
          "name": "stdout",
          "text": [
            "Requirement already satisfied: numpy in /usr/local/lib/python3.7/dist-packages (1.21.5)\n"
          ]
        }
      ]
    },
    {
      "cell_type": "markdown",
      "source": [
        "## Criação de Array"
      ],
      "metadata": {
        "id": "J4HXFAdnQXQh"
      }
    },
    {
      "cell_type": "code",
      "source": [
        "# O que há num array\n",
        "\n",
        "help(np.array)"
      ],
      "metadata": {
        "id": "pc0_iGaGQgCa"
      },
      "execution_count": null,
      "outputs": []
    },
    {
      "cell_type": "code",
      "source": [
        "# Criação de array com lista\n",
        "\n",
        "Lista = [1,2,3,4,5,6,7,8,9,10.] #Colocar um ponto num número determina que o tipo seja \"float\"\n",
        "Vetor = np.array(Lista)\n",
        "\n",
        "#Um vetor é um array com apenas uma dimensão.\n",
        "#Cada dimensão é uma camada (isso será visto mais a diante).\n",
        "# Um array com uma camada tem uma lista.\n",
        "\n",
        "print(Vetor)"
      ],
      "metadata": {
        "colab": {
          "base_uri": "https://localhost:8080/"
        },
        "id": "9QadhJfFVjGv",
        "outputId": "93999915-73a0-4bde-b830-d701f7527108"
      },
      "execution_count": 35,
      "outputs": [
        {
          "output_type": "stream",
          "name": "stdout",
          "text": [
            "[ 1.  2.  3.  4.  5.  6.  7.  8.  9. 10.]\n"
          ]
        }
      ]
    },
    {
      "cell_type": "code",
      "source": [
        "# Criação de Array com Arange\n",
        "# Os parâmetros são: início, fim e intervalo (a distância entre cada número)\n",
        "\n",
        "VetorArange = np.arange(1,1) #Este array começa e termina no mesmo número, o que faz o array ficar vazio\n",
        "print(VetorArange)\n",
        "\n",
        "VetorArange = np.arange(10,1) #Ele tenta somar um como \"passo\", mas não consegue chegar a um número menor somando, então encerra sem adicionar número algum\n",
        "print(VetorArange)\n",
        "\n",
        "VetorArange = np.arange(10,1,-1) # Dando o \"passo\" negativo, somando o valor do passo ao valor inicial, é possível chegar ao valor final.\n",
        "print(VetorArange)\n",
        "\n",
        "VetorArange = np.arange(10,1,-1.,dtype='int64') #É possível determinar o tipo; caso contrário, ele é inferido pelos números dados\n",
        "# Mesmo dado um número com um ponto, o dtype foi estipulado com sucesso"
      ],
      "metadata": {
        "colab": {
          "base_uri": "https://localhost:8080/"
        },
        "id": "_2sBD4TVmuhu",
        "outputId": "d6c96423-4f2e-4340-ae10-af0db908cc37"
      },
      "execution_count": 38,
      "outputs": [
        {
          "output_type": "stream",
          "name": "stdout",
          "text": [
            "[]\n",
            "[]\n",
            "[10  9  8  7  6  5  4  3  2]\n"
          ]
        }
      ]
    },
    {
      "cell_type": "code",
      "source": [
        "# Um array preenchido com zeros\n",
        "# O primeiro parâmetro é o shape do array - dado em uma tupla\n",
        "\n",
        "VetorZeros = np.zeros((5,20)) # Uma matriz de 5x20 (5 vetores de 20 itens)\n",
        "print(VetorZeros)"
      ],
      "metadata": {
        "colab": {
          "base_uri": "https://localhost:8080/"
        },
        "id": "PMPNpF3nzdbz",
        "outputId": "7e347afc-631f-4334-869f-dcaf3c368fda"
      },
      "execution_count": 48,
      "outputs": [
        {
          "output_type": "stream",
          "name": "stdout",
          "text": [
            "[[0. 0. 0. 0. 0. 0. 0. 0. 0. 0. 0. 0. 0. 0. 0. 0. 0. 0. 0. 0.]\n",
            " [0. 0. 0. 0. 0. 0. 0. 0. 0. 0. 0. 0. 0. 0. 0. 0. 0. 0. 0. 0.]\n",
            " [0. 0. 0. 0. 0. 0. 0. 0. 0. 0. 0. 0. 0. 0. 0. 0. 0. 0. 0. 0.]\n",
            " [0. 0. 0. 0. 0. 0. 0. 0. 0. 0. 0. 0. 0. 0. 0. 0. 0. 0. 0. 0.]\n",
            " [0. 0. 0. 0. 0. 0. 0. 0. 0. 0. 0. 0. 0. 0. 0. 0. 0. 0. 0. 0.]]\n"
          ]
        }
      ]
    },
    {
      "cell_type": "markdown",
      "source": [
        "## Investigação dos Arrays"
      ],
      "metadata": {
        "id": "lVSgjcK9wkqL"
      }
    },
    {
      "cell_type": "code",
      "source": [
        "# O tipo é ndarray - numpy data array\n",
        "print(type(Vetor))"
      ],
      "metadata": {
        "colab": {
          "base_uri": "https://localhost:8080/"
        },
        "id": "xAAYnrRnyqHb",
        "outputId": "da2b96a1-50a2-43db-8ec3-b3e26e0cc994"
      },
      "execution_count": 39,
      "outputs": [
        {
          "output_type": "stream",
          "name": "stdout",
          "text": [
            "<class 'numpy.ndarray'>\n"
          ]
        }
      ]
    },
    {
      "cell_type": "code",
      "source": [
        "# Guia-se por índices\n",
        "# A atribuição de valores é similar à de uma lista:\n",
        "\n",
        "Vetor[0] = 8\n",
        "print(Vetor)\n",
        "print(Vetor[9])"
      ],
      "metadata": {
        "colab": {
          "base_uri": "https://localhost:8080/"
        },
        "id": "NK8vWngUlZI5",
        "outputId": "1f93c8b2-6276-48ee-8b38-e8d17c37213e"
      },
      "execution_count": 40,
      "outputs": [
        {
          "output_type": "stream",
          "name": "stdout",
          "text": [
            "[ 8.  2.  3.  4.  5.  6.  7.  8.  9. 10.]\n",
            "10.0\n"
          ]
        }
      ]
    },
    {
      "cell_type": "code",
      "source": [
        "# O formato do array:\n",
        "\n",
        "print(Vetor.shape)\n",
        "print(type(Vetor.shape))\n",
        "\n",
        "#O resultado é uma tupla, onde cada número é a quantidade de vetores em cada dimensão"
      ],
      "metadata": {
        "colab": {
          "base_uri": "https://localhost:8080/"
        },
        "id": "sa4WG0UyYwqD",
        "outputId": "a4f72b4f-f16f-4dd1-b440-ef441242428c"
      },
      "execution_count": 41,
      "outputs": [
        {
          "output_type": "stream",
          "name": "stdout",
          "text": [
            "(10,)\n",
            "<class 'tuple'>\n"
          ]
        }
      ]
    },
    {
      "cell_type": "code",
      "source": [
        "#dtype é o tipo dos dados\n",
        "#Arrays só aceitam dados de um mesmo tipo, e apenas números\n",
        "\n",
        "print(Vetor.dtype,)\n",
        "print(VetorArange.dtype,)\n",
        "\n",
        "print('')\n",
        "\n",
        "print(type(Vetor.dtype))\n"
      ],
      "metadata": {
        "colab": {
          "base_uri": "https://localhost:8080/"
        },
        "id": "8DBSHnNHmsba",
        "outputId": "f0c1a30c-1d55-4798-fe10-1ae93c972bf2"
      },
      "execution_count": 42,
      "outputs": [
        {
          "output_type": "stream",
          "name": "stdout",
          "text": [
            "float64\n",
            "int64\n",
            "\n",
            "<class 'numpy.dtype[float64]'>\n"
          ]
        }
      ]
    },
    {
      "cell_type": "markdown",
      "source": [
        "## Métodos do Array"
      ],
      "metadata": {
        "id": "Wf2w2GFuWnJt"
      }
    },
    {
      "cell_type": "code",
      "source": [
        "#Soma acumulada.\n",
        "\n",
        "VetorCumSum = Vetor.cumsum()\n",
        "print(VetorCumSum)\n",
        "print(type(VetorCumSum))\n",
        "\n",
        "# O resultado é outro array"
      ],
      "metadata": {
        "colab": {
          "base_uri": "https://localhost:8080/"
        },
        "id": "imTHogYHQ30K",
        "outputId": "c192ebe3-6f94-40f7-cac4-6635f95d40ca"
      },
      "execution_count": 43,
      "outputs": [
        {
          "output_type": "stream",
          "name": "stdout",
          "text": [
            "[ 8. 10. 13. 17. 22. 28. 35. 43. 52. 62.]\n",
            "<class 'numpy.ndarray'>\n"
          ]
        }
      ]
    },
    {
      "cell_type": "code",
      "source": [
        ""
      ],
      "metadata": {
        "id": "2BN8eVMJl_QX"
      },
      "execution_count": null,
      "outputs": []
    }
  ]
}