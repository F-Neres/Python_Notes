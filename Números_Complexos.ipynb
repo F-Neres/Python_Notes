{
  "nbformat": 4,
  "nbformat_minor": 0,
  "metadata": {
    "colab": {
      "name": "Números_Complexos.ipynb",
      "provenance": [],
      "authorship_tag": "ABX9TyNx0BreAYXKWSCGBNf4JTyt",
      "include_colab_link": true
    },
    "kernelspec": {
      "name": "python3",
      "display_name": "Python 3"
    },
    "language_info": {
      "name": "python"
    }
  },
  "cells": [
    {
      "cell_type": "markdown",
      "metadata": {
        "id": "view-in-github",
        "colab_type": "text"
      },
      "source": [
        "<a href=\"https://colab.research.google.com/github/F-Neres/Python_Notes/blob/main/N%C3%BAmeros_Complexos.ipynb\" target=\"_parent\"><img src=\"https://colab.research.google.com/assets/colab-badge.svg\" alt=\"Open In Colab\"/></a>"
      ]
    },
    {
      "cell_type": "markdown",
      "source": [
        "[Complex Numbers in Python | Set 1 (Introduction)](https://www.geeksforgeeks.org/complex-numbers-in-python-set-1-introduction/)"
      ],
      "metadata": {
        "id": "FQ4_LoO--js5"
      }
    },
    {
      "cell_type": "code",
      "execution_count": null,
      "metadata": {
        "id": "UlCRtzIv905e",
        "outputId": "b4ef0c20-44f5-48da-d1ba-d49f0fb3bc56",
        "colab": {
          "base_uri": "https://localhost:8080/"
        }
      },
      "outputs": [
        {
          "output_type": "stream",
          "name": "stdout",
          "text": [
            "(-1+7j)\n"
          ]
        }
      ],
      "source": [
        "# Números complexos\n",
        "\n",
        "a = 1+1j\n",
        "b = 3+4j\n",
        "\n",
        "print(a*b)"
      ]
    },
    {
      "cell_type": "code",
      "source": [
        ""
      ],
      "metadata": {
        "id": "PEjeECBW-fIW"
      },
      "execution_count": null,
      "outputs": []
    }
  ]
}